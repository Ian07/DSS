{
 "cells": [
  {
   "cell_type": "code",
   "execution_count": 45,
   "metadata": {},
   "outputs": [
    {
     "data": {
      "text/plain": [
       "'E:\\\\Facultad2018\\\\DSS\\\\Practica\\\\tp4\\\\DSS\\\\Practico4\\\\Mapa\\\\test.html'"
      ]
     },
     "execution_count": 45,
     "metadata": {},
     "output_type": "execute_result"
    }
   ],
   "source": [
    "import bokeh.plotting as bkp\n",
    "import bokeh.models as bkm\n",
    "import pandas\n",
    "\n",
    "filename = \"test.html\"\n",
    "tools = \"pan,wheel_zoom,box_zoom,reset,previewsave\"\n",
    "\n",
    "'''\n",
    "with open(\"./countries.json\", \"r\") as f:\n",
    "    countries = bkm.GeoJSONDataSource(geojson=f.read())\n",
    "'''\n",
    "\n",
    "p = bkp.figure(width=1000, height=600, tools=tools, title='Paises del mundo', x_axis_label='Longitude', y_axis_label='Latitude')\n",
    "\n",
    "p.background_fill_color = \"aqua\"\n",
    "p.x_range = bkm.Range1d(start=-180, end=180)\n",
    "p.y_range = bkm.Range1d(start=-90, end=90)\n",
    "p.patches(\"xs\", \"ys\", color=\"white\", line_color=\"black\", source=countries)\n",
    "\n",
    "'''\n",
    "# Read in the airports data.\n",
    "airports = pandas.read_csv(\"aeropuertos.csv\", delimiter=\";\", dtype=str)\n",
    "\n",
    "print(list(airports[\"longitude\"])[0])\n",
    "print(list(airports[\"latitude\"])[0])\n",
    "\n",
    "# Convert latitude and longitude to x and y coordinates\n",
    "x, y = (list(airports[\"longitude\"]), list(airports[\"latitude\"]))\n",
    "'''\n",
    "\n",
    "x = [-70,-60,-56, -45, -56, -65, -67, -75]\n",
    "y = [-33,-37, -33, -16,-25, -18, -14, 40]\n",
    "\n",
    "'''\n",
    "Santiago(-70,-33)\n",
    "BsAs (-60,-37)\n",
    "Montevideo (-56,-33)\n",
    "Brasilia(-45,-16)\n",
    "Asuncion(-56,-25)\n",
    "Sucre(-65,-18)\n",
    "La Paz(-67, -14)\n",
    "Washington D.C(-75,40)\n",
    "\n",
    "\n",
    "'''\n",
    "\n",
    "p.circle(x, y, size=5, color=\"red\", alpha=0.5)\n",
    "\n",
    "\n",
    "bkp.output_file(filename)\n",
    "bkp.save(p, filename)\n"
   ]
  },
  {
   "cell_type": "code",
   "execution_count": null,
   "metadata": {},
   "outputs": [],
   "source": []
  }
 ],
 "metadata": {
  "kernelspec": {
   "display_name": "Python 3",
   "language": "python",
   "name": "python3"
  },
  "language_info": {
   "codemirror_mode": {
    "name": "ipython",
    "version": 3
   },
   "file_extension": ".py",
   "mimetype": "text/x-python",
   "name": "python",
   "nbconvert_exporter": "python",
   "pygments_lexer": "ipython3",
   "version": "3.6.3"
  }
 },
 "nbformat": 4,
 "nbformat_minor": 2
}
