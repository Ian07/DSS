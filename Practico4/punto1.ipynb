{
 "cells": [
  {
   "cell_type": "code",
   "execution_count": 267,
   "metadata": {},
   "outputs": [],
   "source": [
    "import tweepy\n",
    "import json\n",
    "import pandas as pd\n",
    "from collections import Counter\n",
    "from pprint import pprint \n",
    "import operator \n",
    "from itertools import islice"
   ]
  },
  {
   "cell_type": "code",
   "execution_count": 268,
   "metadata": {},
   "outputs": [],
   "source": [
    "auth = tweepy.OAuthHandler(\"MwBn5s2sjQ3vrRYMXuc9BtYfw\", \"36Cc2pA4NN89wTXs3LgUCxSznlpa4v8PoPYw6WTLuH1BF8V5vC\")\n",
    "auth.set_access_token(\"1037434933835378694-bUg0vb50KLHiaC78YtIa2pxSdnEytU\", \"VHvbqFILbnDgv2xZesppbs7f1Fk2QPDBIJFB8KoYkUCUH\")\n",
    "api = tweepy.API(auth, parser=tweepy.parsers.JSONParser())"
   ]
  },
  {
   "cell_type": "code",
   "execution_count": 269,
   "metadata": {},
   "outputs": [],
   "source": [
    "me = api.me() #Para futuro uso"
   ]
  },
  {
   "cell_type": "code",
   "execution_count": 270,
   "metadata": {},
   "outputs": [],
   "source": [
    "trends_mundiales = api.trends_place(1) \n"
   ]
  },
  {
   "cell_type": "code",
   "execution_count": 271,
   "metadata": {},
   "outputs": [],
   "source": [
    "nombre_trends = set([trend['name'] for trend in trends_mundiales[0]['trends']])"
   ]
  },
  {
   "cell_type": "code",
   "execution_count": 272,
   "metadata": {},
   "outputs": [],
   "source": [
    "top_trends = [] #para uso en el punto siguiente"
   ]
  },
  {
   "cell_type": "code",
   "execution_count": 273,
   "metadata": {},
   "outputs": [
    {
     "name": "stdout",
     "output_type": "stream",
     "text": [
      "Willy Toledo\n",
      "#نصركم_ينتظركم\n",
      "#LePireStagiaire\n"
     ]
    }
   ],
   "source": [
    "for i, val in enumerate(islice(nombre_trends, 3)):\n",
    "    top_trends.append(val)\n",
    "    print(val)\n",
    "    "
   ]
  },
  {
   "cell_type": "code",
   "execution_count": 274,
   "metadata": {},
   "outputs": [],
   "source": [
    "#FIN PUNTO A"
   ]
  },
  {
   "cell_type": "code",
   "execution_count": 275,
   "metadata": {},
   "outputs": [
    {
     "name": "stdout",
     "output_type": "stream",
     "text": [
      "########### Willy Toledo ###########\n",
      "########### #نصركم_ينتظركم ###########\n",
      "########### #LePireStagiaire ###########\n"
     ]
    }
   ],
   "source": [
    "for t in top_trends:    \n",
    "    print(\"########### \" + t + \" ###########\" )\n",
    "    search_result = api.search(q=t)    \n",
    "    for i in search_results['statuses']:\n",
    "        (i['user']['screen_name'])   #para printear los usuarios "
   ]
  },
  {
   "cell_type": "code",
   "execution_count": 276,
   "metadata": {},
   "outputs": [],
   "source": [
    "#FIN PUNTO B"
   ]
  },
  {
   "cell_type": "code",
   "execution_count": 278,
   "metadata": {},
   "outputs": [
    {
     "name": "stdout",
     "output_type": "stream",
     "text": [
      "########### Willy Toledo ###########\n",
      "[(u'a', 17), (u'en', 15), (u'rt', 15), (u'willy', 15), (u'toledo', 12)]\n",
      "########### #نصركم_ينتظركم ###########\n",
      "[(u'rt', 15),\n",
      " (u'..', 10),\n",
      " (u'\\u0645\\u0639', 8),\n",
      " (u'\\u0644\\u0639\\u0648\\u062f\\u0629', 7),\n",
      " (u'\\u062c\\u0647\\u062f\\u0647\\u0645', 7)]\n",
      "########### #LePireStagiaire ###########\n",
      "[(u'le', 10), (u'#lepirestagiaire', 9), (u'rt', 8), (u'que', 7), (u'\\xe0', 6)]\n"
     ]
    }
   ],
   "source": [
    "for t in top_trends:  \n",
    "    print(\"########### \" + t + \" ###########\" )\n",
    "    cnt = Counter() \n",
    "    tweets = api.search(q=t)    \n",
    "    for i in tweets['statuses']:                \n",
    "        for word in i[\"text\"].split(): \n",
    "            cnt[word.lower()] += 1\n",
    "    sorted_cnt = sorted(cnt.iteritems(),key=operator.itemgetter(1),reverse=True) \n",
    "    pprint(sorted_cnt[:5]) # top 5 palabras \n",
    "    "
   ]
  },
  {
   "cell_type": "code",
   "execution_count": 259,
   "metadata": {},
   "outputs": [],
   "source": [
    "#FIN PUNTO C"
   ]
  },
  {
   "cell_type": "code",
   "execution_count": null,
   "metadata": {},
   "outputs": [],
   "source": []
  }
 ],
 "metadata": {
  "kernelspec": {
   "display_name": "Python 2",
   "language": "python",
   "name": "python2"
  },
  "language_info": {
   "codemirror_mode": {
    "name": "ipython",
    "version": 2
   },
   "file_extension": ".py",
   "mimetype": "text/x-python",
   "name": "python",
   "nbconvert_exporter": "python",
   "pygments_lexer": "ipython2",
   "version": "2.7.15rc1"
  }
 },
 "nbformat": 4,
 "nbformat_minor": 2
}
