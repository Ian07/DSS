{
 "cells": [
  {
   "cell_type": "markdown",
   "metadata": {},
   "source": [
    "Desarrolle un crawler para el sitio web del Diario Jornada, que almacene la información de las secciones más relevantes de la página en una base de datos. Exponga una API que permita consultar los datos de acuerdo a ciertos parámetros.\n",
    "Además resolver y graficar las siguientes operaciones:\n",
    "1. Mostrar cuales son las 5 noticias más relevantes seg ́un cantidad de visitas a nivel global y por sección.\n",
    "2. Mostrar como están distribuidas las palabras de cierto artículo.\n",
    "3. Mostrar el número promedio, máximo y mínimo de palabras, sentencias, párrafos de un conjunto de noticias de su preferencia"
   ]
  },
  {
   "cell_type": "markdown",
   "metadata": {},
   "source": [
    "Para desarrollar un crawler usaremos la libreria **Scrapy**, el proyecto con la araña se encuentra en la carpeta **dss_diario**.\n",
    "\n",
    "Lo que haremos con el siguiente comando es correr la araña para dejar las noticias obtenidas en un archivos llamado **noticias.json** que posteriormente importaremos a una base en mongo."
   ]
  },
  {
   "cell_type": "code",
   "execution_count": 11,
   "metadata": {},
   "outputs": [],
   "source": [
    "%%bash\n",
    "cd dss_diario\n",
    "scrapy crawl jornada-spider -o ../noticias.json"
   ]
  },
  {
   "cell_type": "markdown",
   "metadata": {},
   "source": [
    "Una vez que obtenemos el JSON con las noticias porcedemos a cargarlo dentro de la base diario-jornada"
   ]
  },
  {
   "cell_type": "code",
   "execution_count": 16,
   "metadata": {},
   "outputs": [],
   "source": [
    "from pymongo import MongoClient\n",
    "from random import randint\n",
    "import json\n",
    "\n",
    "client = MongoClient(port=27017)\n",
    "db=client.diario\n",
    "collection_noticia = db.noticia\n",
    "\n",
    "with open('noticias.json') as f:\n",
    "    data = json.load(f)\n",
    "\n",
    "for noticia in data:\n",
    "    collection_noticia.insert_one(noticia)\n",
    "client.close()"
   ]
  },
  {
   "cell_type": "markdown",
   "metadata": {},
   "source": []
  }
 ],
 "metadata": {
  "kernelspec": {
   "display_name": "ml",
   "language": "python",
   "name": "ml"
  },
  "language_info": {
   "codemirror_mode": {
    "name": "ipython",
    "version": 3
   },
   "file_extension": ".py",
   "mimetype": "text/x-python",
   "name": "python",
   "nbconvert_exporter": "python",
   "pygments_lexer": "ipython3",
   "version": "3.5.3"
  }
 },
 "nbformat": 4,
 "nbformat_minor": 2
}
