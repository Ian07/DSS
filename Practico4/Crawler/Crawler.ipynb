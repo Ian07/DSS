{
 "cells": [
  {
   "cell_type": "markdown",
   "metadata": {},
   "source": [
    "Desarrolle un crawler para el sitio web del Diario Jornada, que almacene la información de las secciones más relevantes de la página en una base de datos. Exponga una API que permita consultar los datos de acuerdo a ciertos parámetros.\n",
    "Además resolver y graficar las siguientes operaciones:\n",
    "1. Mostrar cuales son las 5 noticias más relevantes según cantidad de visitas a nivel global y por sección.\n",
    "2. Mostrar como están distribuidas las palabras de cierto artículo.\n",
    "3. Mostrar el número promedio, máximo y mínimo de palabras, sentencias, párrafos de un conjunto de noticias de su preferencia"
   ]
  },
  {
   "cell_type": "markdown",
   "metadata": {},
   "source": [
    "Para desarrollar un crawler usaremos la libreria **Scrapy**, el proyecto con la araña se encuentra en la carpeta **dss_diario**.\n",
    "\n",
    "Lo que haremos con el siguiente comando es correr la araña para dejar las noticias obtenidas en un archivos llamado **noticias.json** que posteriormente importaremos a una base en mongo."
   ]
  },
  {
   "cell_type": "code",
   "execution_count": 11,
   "metadata": {},
   "outputs": [],
   "source": [
    "%%bash\n",
    "cd dss_diario\n",
    "scrapy crawl jornada-spider -o ../noticias.json"
   ]
  },
  {
   "cell_type": "markdown",
   "metadata": {},
   "source": [
    "Una vez que obtenemos el JSON con las noticias porcedemos a cargarlo dentro de la base diario-jornada"
   ]
  },
  {
   "cell_type": "code",
   "execution_count": 65,
   "metadata": {},
   "outputs": [],
   "source": [
    "from pymongo import MongoClient\n",
    "from random import randint\n",
    "import json\n",
    "import requests\n",
    "import matplotlib\n",
    "import numpy as np\n",
    "import matplotlib.pyplot as plt\n",
    "from collections import Counter\n",
    "from functools import reduce"
   ]
  },
  {
   "cell_type": "code",
   "execution_count": 16,
   "metadata": {},
   "outputs": [],
   "source": [
    "client = MongoClient(port=27017)\n",
    "db=client.diario\n",
    "collection_noticia = db.noticia\n",
    "\n",
    "with open('noticias.json') as f:\n",
    "    data = json.load(f)\n",
    "\n",
    "for noticia in data:\n",
    "    collection_noticia.insert_one(noticia)\n",
    "client.close()"
   ]
  },
  {
   "cell_type": "markdown",
   "metadata": {},
   "source": [
    "Para correr la api que vamos a utilizar para consumir las noticias, vamos a correr en otra terminal el servidor de Flask\n",
    "\n",
    "Esto se hace con el siguiente comando, sobre la carpeta **api**:\n",
    "> python api.py"
   ]
  },
  {
   "cell_type": "markdown",
   "metadata": {},
   "source": [
    "Una vez que tenemos el servidor corriendo procedemos a sacar las noticias y realizar los graficos solicitados."
   ]
  },
  {
   "cell_type": "markdown",
   "metadata": {},
   "source": [
    "Mostrar cuales son las 5 noticias más relevantes según cantidad de visitas a nivel global y por sección."
   ]
  },
  {
   "cell_type": "code",
   "execution_count": 28,
   "metadata": {},
   "outputs": [
    {
     "name": "stdout",
     "output_type": "stream",
     "text": [
      "Noticias mas relevantes a nivel global\n",
      "Titulo: Conducía alcoholizado, mató a una persona y una Cámara se apresta a darle la “probation”, Leida 13429 veces\n",
      "Titulo: Dos mujeres y el desafío de encontrar a su madre, que desapareció en 1994, Leida 11866 veces\n",
      "Titulo: Inseguridad en Trelew: el baldío del terror, Leida 4157 veces\n",
      "Titulo: Temor en Bariloche por presencia de jabalíes en los barrios: mataron a un perro, Leida 3876 veces\n",
      "Titulo: Descubren dos \"fantasmas\" en un cementerio con Google Street View, Leida 3139 veces\n"
     ]
    }
   ],
   "source": [
    "response = requests.get('http://127.0.0.1:5000/noticias/')\n",
    "noticias = response.json()\n",
    "\n",
    "noticias.sort(key=lambda x: x['hits'], reverse=True)\n",
    "print(\"Noticias mas relevantes a nivel global\")\n",
    "noticias_ord = [\"Titulo: {0}, Leida {1} veces\".format(noticia['titulo'],\n",
    "                                                    noticia['hits']) for noticia in noticias[:5]]\n",
    "for noticia in noticias_ord:\n",
    "    print(noticia)"
   ]
  },
  {
   "cell_type": "code",
   "execution_count": 35,
   "metadata": {},
   "outputs": [
    {
     "name": "stdout",
     "output_type": "stream",
     "text": [
      "Noticias más relevantes en la categoria deportes\n",
      "Titulo: Luna, la arquera que hizo tres goles en un partido, Leida 1262 veces\n",
      "Titulo: Brown: Hugo Barrientos, afuera, Leida 624 veces\n",
      "Titulo: Maradona y un debut soñado, Leida 576 veces\n",
      "Titulo: Somos España: Boca-River, como único atractivo, Leida 415 veces\n",
      "Titulo: El Mar y Valle colaboró con el Materno Infantil, Leida 308 veces\n",
      "============================\n",
      "Noticias más relevantes en la categoria provincia\n",
      "Titulo: Causa Revelación: denunciaron a los fiscales Nápoli e Iturrioz ante el Consejo de la Magistratura, Leida 1724 veces\n",
      "Titulo: Massoni dijo que a Rosa Acuña la violaron y la prendieron fuego viva para matarla, Leida 1685 veces\n",
      "Titulo: Esquel: denunciaron que el municipio cobró un bono por la garrafa social, Leida 1075 veces\n",
      "Titulo: Llega hoy a Trelew el vuelo de Córdoba , Leida 814 veces\n",
      "Titulo: Trelew: remueven basura y chatarra en un baldío conflictivo, Leida 802 veces\n",
      "============================\n",
      "Noticias más relevantes en la categoria economía\n",
      "Titulo: Comienza el mega juicio contra Volkswagen por el \"dieselgate\", Leida 1969 veces\n",
      "Titulo: Para Moody´s la recesión podría durar tres años, Leida 1622 veces\n",
      "Titulo: Argentina se endeudó en u$s 143.800 millones durante la era Macri, Leida 707 veces\n",
      "Titulo: La guerra comercial entre EEUU y China también se juega en Sudamérica, Leida 690 veces\n",
      "Titulo: En 2019, los gobernadores se harán cargo de los subsidios al transporte y la electricidad, Leida 439 veces\n",
      "============================\n",
      "Noticias más relevantes en la categoria país & mundo\n",
      "Titulo: Un intendente tucumano regaló tortas a los docentes con su imagen, Leida 1183 veces\n",
      "Titulo: Milagro Sala se lanzará como candidata a gobernadora de Jujuy, Leida 770 veces\n",
      "Titulo: La oposición pone serios reparos al proyecto de Presupuesto 2019, Leida 349 veces\n",
      "Titulo: Macri compensa por decreto al Fondo Sojero y envía $4.125 millones a las provincias, Leida 330 veces\n",
      "Titulo: Abogado de CFK refuta argumentos de Bonadío y resaltó que Clarens negó vínculos con ella , Leida 172 veces\n",
      "============================\n",
      "Noticias más relevantes en la categoria policiales\n",
      "Titulo: Conducía alcoholizado, mató a una persona y una Cámara se apresta a darle la “probation”, Leida 13429 veces\n",
      "Titulo: Inseguridad en Trelew: el baldío del terror, Leida 4157 veces\n",
      "Titulo: Ancianos de Trelew perjudicados por millonarias estafas, Leida 1335 veces\n",
      "Titulo: Caso Acuña: un detenido les apuntó a Oyarzo y a Vargas, Leida 1185 veces\n",
      "Titulo: Cumbres Verdes: “Venían desde la zona norte del país para operar en la Comarca Andina”, Leida 774 veces\n",
      "============================\n",
      "Noticias más relevantes en la categoria sociedad\n",
      "Titulo: Dos mujeres y el desafío de encontrar a su madre, que desapareció en 1994, Leida 11866 veces\n",
      "Titulo: Temor en Bariloche por presencia de jabalíes en los barrios: mataron a un perro, Leida 3876 veces\n",
      "Titulo: Descubren dos \"fantasmas\" en un cementerio con Google Street View, Leida 3139 veces\n",
      "Titulo: Maia Koenig, la chubutense que hace música con una Nintendo Game Boy del 89, Leida 2364 veces\n",
      "Titulo: Cada 24 segundos hay un choque en la Argentina, Leida 1870 veces\n",
      "============================\n"
     ]
    }
   ],
   "source": [
    "for categoria in ['deportes','provincia','economía','país & mundo','policiales','sociedad']:\n",
    "    response = requests.get('http://127.0.0.1:5000/noticias/categoria/{}/'.format(categoria))\n",
    "    noticias = response.json()\n",
    "\n",
    "    noticias.sort(key=lambda x: x['hits'], reverse=True)\n",
    "    print(\"Noticias más relevantes en la categoria {}\".format(categoria))\n",
    "    noticias_ord = [\"Titulo: {0}, Leida {1} veces\".format(noticia['titulo'],\n",
    "                                                        noticia['hits']) for noticia in noticias[:5]]\n",
    "    for noticia in noticias_ord:\n",
    "        print(noticia)\n",
    "    print(\"============================\")"
   ]
  },
  {
   "cell_type": "markdown",
   "metadata": {},
   "source": [
    "Mostrar como están distribuidas las palabras de cierto artículo"
   ]
  },
  {
   "cell_type": "code",
   "execution_count": 60,
   "metadata": {},
   "outputs": [
    {
     "data": {
      "image/png": "[encoded data removed]",
      "text/plain": [
       "<matplotlib.figure.Figure at 0x7fc5d8bb5240>"
      ]
     },
     "metadata": {},
     "output_type": "display_data"
    }
   ],
   "source": [
    "#Elegimos un artículo de la base usando su id\n",
    "response = requests.get('http://127.0.0.1:5000/noticias/219524')\n",
    "noticia = response.json()\n",
    "\n",
    "palabras = noticia['cuerpo'].split()\n",
    "diccionario_palabras = Counter(palabras)\n",
    "palabras_grafico = []\n",
    "cantidad_grafico = []\n",
    "for palabra, cantidad in diccionario_palabras.items():\n",
    "    if cantidad > 1: #Nos quedamos con las palabras que aparecen más que 1 vez\n",
    "        palabras_grafico.append(palabra)\n",
    "        cantidad_grafico.append(cantidad)\n",
    "\n",
    "#Agrandamos el gráfico para que despues se vean las palabras.\n",
    "fig_size = plt.rcParams[\"figure.figsize\"]\n",
    "fig_size[0] = 20\n",
    "fig_size[1] = 10\n",
    "plt.rcParams[\"figure.figsize\"] = fig_size\n",
    "plt.bar(np.arange(len(cantidad_grafico)), cantidad_grafico)  # Dibujamos el gráfico de barras\n",
    "plt.title('Cantidad de palabras en el artículo')  # Colocamos el título\n",
    "plt.xticks(np.arange(len(cantidad_grafico)), palabras_grafico, rotation = 45)\n",
    "plt.show()"
   ]
  },
  {
   "cell_type": "markdown",
   "metadata": {},
   "source": [
    "Mostrar el número promedio, máximo y mínimo de palabras, sentencias, párrafos de un conjunto de noticias de su preferencia"
   ]
  },
  {
   "cell_type": "code",
   "execution_count": 75,
   "metadata": {},
   "outputs": [
    {
     "name": "stdout",
     "output_type": "stream",
     "text": [
      "La cantidad promedio de palabras de un articulo es de 326.70588235294116\n",
      "El articulo con menos palabras posee 115 palabras,      mientras que el más extenso cuenta con 708 palabras\n"
     ]
    }
   ],
   "source": [
    "response = requests.get('http://127.0.0.1:5000/noticias/categoria/deportes')\n",
    "noticias = response.json()\n",
    "\n",
    "#Calculamos el promedio de palabras en cada noticia\n",
    "promedio_palabras = sum(len(noticia['cuerpo'].split()) for noticia in noticias)/len(noticias)\n",
    "\n",
    "#obtenemos el numero maximo y minimo de palabras por articulo\n",
    "cant_max_palabras = 0\n",
    "cant_min_palabras = 1000000\n",
    "for noticia in noticias:\n",
    "    cant_palabras_articulo = len(noticia['cuerpo'].split())\n",
    "    if cant_palabras_articulo > cant_max_palabras:\n",
    "        cant_max_palabras = cant_palabras_articulo\n",
    "    if cant_palabras_articulo < cant_min_palabras:\n",
    "        cant_min_palabras = cant_palabras_articulo\n",
    "\n",
    "print(\"La cantidad promedio de palabras de un articulo es de {}\".format(promedio_palabras))\n",
    "print(\"El articulo con menos palabras posee {} palabras,\\\n",
    "      mientras que el más extenso cuenta con {} palabras\".format(cant_min_palabras,cant_max_palabras))"
   ]
  },
  {
   "cell_type": "markdown",
   "metadata": {},
   "source": [
    "**Nota:** El numero de sentencias y parafos no pudo ser determinado ya que se quitaron los caracteres especiales durantes la toma de datos en la página."
   ]
  }
 ],
 "metadata": {
  "kernelspec": {
   "display_name": "ml",
   "language": "python",
   "name": "ml"
  },
  "language_info": {
   "codemirror_mode": {
    "name": "ipython",
    "version": 3
   },
   "file_extension": ".py",
   "mimetype": "text/x-python",
   "name": "python",
   "nbconvert_exporter": "python",
   "pygments_lexer": "ipython3",
   "version": "3.5.3"
  }
 },
 "nbformat": 4,
 "nbformat_minor": 2
}
