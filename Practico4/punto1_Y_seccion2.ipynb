{
 "cells": [
  {
   "cell_type": "code",
   "execution_count": 1,
   "metadata": {},
   "outputs": [],
   "source": [
    "import tweepy\n",
    "import json\n",
    "import pandas as pd\n",
    "from collections import Counter\n",
    "from pprint import pprint \n",
    "import operator \n",
    "import time\n",
    "from itertools import islice"
   ]
  },
  {
   "cell_type": "code",
   "execution_count": 2,
   "metadata": {},
   "outputs": [],
   "source": [
    "#PUNTO A"
   ]
  },
  {
   "cell_type": "code",
   "execution_count": 17,
   "metadata": {},
   "outputs": [],
   "source": [
    "auth = tweepy.OAuthHandler(\"MwBn5s2sjQ3vrRYMXuc9BtYfw\", \"36Cc2pA4NN89wTXs3LgUCxSznlpa4v8PoPYw6WTLuH1BF8V5vC\")\n",
    "auth.set_access_token(\"1037434933835378694-bUg0vb50KLHiaC78YtIa2pxSdnEytU\", \"VHvbqFILbnDgv2xZesppbs7f1Fk2QPDBIJFB8KoYkUCUH\")\n",
    "api = tweepy.API(auth, parser=tweepy.parsers.JSONParser())\n",
    "#api.wait_on_rate_limit=True #en caso que haya problema con el rate limit\n",
    "API = api"
   ]
  },
  {
   "cell_type": "code",
   "execution_count": 18,
   "metadata": {},
   "outputs": [],
   "source": [
    "trends_mundiales = api.trends_place(1) \n"
   ]
  },
  {
   "cell_type": "code",
   "execution_count": 19,
   "metadata": {},
   "outputs": [],
   "source": [
    "nombre_trends = set([trend['name'] for trend in trends_mundiales[0]['trends']])"
   ]
  },
  {
   "cell_type": "code",
   "execution_count": 20,
   "metadata": {},
   "outputs": [],
   "source": [
    "top_trends = [] #para uso en el punto siguiente"
   ]
  },
  {
   "cell_type": "code",
   "execution_count": 21,
   "metadata": {},
   "outputs": [
    {
     "name": "stdout",
     "output_type": "stream",
     "text": [
      "Noel Gallagher\n",
      "#RouanetNão\n",
      "Ernesto Zedillo\n"
     ]
    }
   ],
   "source": [
    "for i, val in enumerate(islice(nombre_trends, 3)):\n",
    "    top_trends.append(val)\n",
    "    print(val)\n",
    "    "
   ]
  },
  {
   "cell_type": "code",
   "execution_count": 22,
   "metadata": {},
   "outputs": [],
   "source": [
    "#FIN PUNTO A"
   ]
  },
  {
   "cell_type": "code",
   "execution_count": 23,
   "metadata": {},
   "outputs": [],
   "source": [
    "#PUNTO B"
   ]
  },
  {
   "cell_type": "code",
   "execution_count": 24,
   "metadata": {},
   "outputs": [
    {
     "name": "stdout",
     "output_type": "stream",
     "text": [
      "########### Noel Gallagher ###########\n",
      "########### #RouanetNão ###########\n",
      "########### Ernesto Zedillo ###########\n"
     ]
    }
   ],
   "source": [
    "for t in top_trends:    \n",
    "    print(\"########### \" + t + \" ###########\" )\n",
    "    search_result = api.search(q=t)    \n",
    "    for i in search_result['statuses']:\n",
    "        (i['user']['screen_name'])   #para printear los usuarios         "
   ]
  },
  {
   "cell_type": "code",
   "execution_count": 25,
   "metadata": {},
   "outputs": [],
   "source": [
    "#FIN PUNTO B"
   ]
  },
  {
   "cell_type": "code",
   "execution_count": 26,
   "metadata": {},
   "outputs": [],
   "source": [
    "#PUNTO C"
   ]
  },
  {
   "cell_type": "code",
   "execution_count": 27,
   "metadata": {},
   "outputs": [
    {
     "name": "stdout",
     "output_type": "stream",
     "text": [
      "########### Noel Gallagher ###########\n",
      "[('noel', 15), ('rt', 12), ('gallagher', 10), ('de', 9), ('los', 8)]\n",
      "########### #RouanetNão ###########\n",
      "[('rt', 10), ('a', 7), ('#rouanetnão', 6), ('de', 5), ('o', 4)]\n",
      "########### Ernesto Zedillo ###########\n",
      "[('ernesto', 14), ('zedillo', 12), ('el', 12), ('que', 11), ('política', 11)]\n"
     ]
    }
   ],
   "source": [
    "for t in top_trends:  \n",
    "    print(\"########### \" + t + \" ###########\" )\n",
    "    cnt = Counter() \n",
    "    tweets = api.search(q=t)    \n",
    "    for i in tweets['statuses']:                \n",
    "        for word in i[\"text\"].split(): \n",
    "            cnt[word.lower()] += 1\n",
    "    sorted_cnt = sorted(cnt.items(),key=operator.itemgetter(1),reverse=True) #python2: iteritems\n",
    "    pprint(sorted_cnt[:5]) # top 5 palabras \n",
    "    "
   ]
  },
  {
   "cell_type": "code",
   "execution_count": 28,
   "metadata": {},
   "outputs": [],
   "source": [
    "#FIN PUNTO C"
   ]
  },
  {
   "cell_type": "code",
   "execution_count": 47,
   "metadata": {},
   "outputs": [],
   "source": [
    "#PUNTO D"
   ]
  },
  {
   "cell_type": "code",
   "execution_count": 48,
   "metadata": {},
   "outputs": [],
   "source": [
    "API = tweepy.API(auth)\n",
    "api = API"
   ]
  },
  {
   "cell_type": "code",
   "execution_count": 51,
   "metadata": {},
   "outputs": [
    {
     "data": {
      "text/plain": [
       "20"
      ]
     },
     "execution_count": 51,
     "metadata": {},
     "output_type": "execute_result"
    }
   ],
   "source": [
    "seguidores = API.followers('Matias_12tw')\n",
    "\n",
    "len(seguidores)"
   ]
  },
  {
   "cell_type": "code",
   "execution_count": 53,
   "metadata": {},
   "outputs": [],
   "source": [
    "followers = []\n",
    "nombres = []\n",
    "\n",
    "for seguidor in seguidores:\n",
    "    followers.append(seguidor)\n",
    "    nombres. append(seguidor.name)"
   ]
  },
  {
   "cell_type": "code",
   "execution_count": 54,
   "metadata": {},
   "outputs": [
    {
     "data": {
      "text/plain": [
       "['Guada Benítez',\n",
       " 'ɐntonio 📼',\n",
       " 'Luciano Alzugaray',\n",
       " 'lucas krmpotic',\n",
       " 'Papablo',\n",
       " 'Germán Bianchini',\n",
       " 'Facundo De Vido',\n",
       " 'Lucianito 💚',\n",
       " 'Patagonia Meetup',\n",
       " 'Rio Noticias Santa Fe',\n",
       " 'Alejandro Pulley',\n",
       " 'MARCELA',\n",
       " 'Victor Abitu',\n",
       " 'Antonio M',\n",
       " 'Jaquay Styles',\n",
       " 'Fabrizio',\n",
       " 'Rimas Gallos ',\n",
       " 'Valentina',\n",
       " 'alan pavez',\n",
       " 'Omar Mollo']"
      ]
     },
     "execution_count": 54,
     "metadata": {},
     "output_type": "execute_result"
    }
   ],
   "source": [
    "nombres"
   ]
  },
  {
   "cell_type": "code",
   "execution_count": 55,
   "metadata": {},
   "outputs": [],
   "source": [
    "nombre = seguidores[0].name"
   ]
  },
  {
   "cell_type": "code",
   "execution_count": 56,
   "metadata": {},
   "outputs": [
    {
     "data": {
      "text/plain": [
       "20"
      ]
     },
     "execution_count": 56,
     "metadata": {},
     "output_type": "execute_result"
    }
   ],
   "source": [
    "\n",
    "\n",
    "seguidores = API.followers('Matias_12tw')\n",
    "\n",
    "len(seguidores)\n",
    "\n"
   ]
  },
  {
   "cell_type": "code",
   "execution_count": 57,
   "metadata": {},
   "outputs": [],
   "source": [
    "#FIN PUNTO D"
   ]
  },
  {
   "cell_type": "code",
   "execution_count": 58,
   "metadata": {},
   "outputs": [],
   "source": [
    "#PUNTO E"
   ]
  },
  {
   "cell_type": "code",
   "execution_count": 59,
   "metadata": {},
   "outputs": [
    {
     "name": "stdout",
     "output_type": "stream",
     "text": [
      "None\n",
      "back from a great weekend.  Parties are fun!\n",
      "2006-04-02 21:44:47\n"
     ]
    }
   ],
   "source": [
    "tweet = api.get_status(1000)\n",
    "print(tweet.coordinates)\n",
    "print(tweet.text)\n",
    "print(tweet.created_at)"
   ]
  },
  {
   "cell_type": "code",
   "execution_count": 60,
   "metadata": {},
   "outputs": [],
   "source": [
    "#FIN PUNTO E"
   ]
  },
  {
   "cell_type": "code",
   "execution_count": 61,
   "metadata": {},
   "outputs": [],
   "source": [
    "#PUNTO F"
   ]
  },
  {
   "cell_type": "code",
   "execution_count": 62,
   "metadata": {},
   "outputs": [],
   "source": [
    "\n",
    "\n",
    "import csv\n",
    "\n",
    "def get_all_tweets(screen_name):\n",
    "\t#Twitter only allows access to a users most recent 3240 tweets with this method\n",
    "\t\n",
    "\t#initialize a list to hold all the tweepy Tweets\n",
    "\talltweets = []\t\n",
    "\t\n",
    "\t#make initial request for most recent tweets (200 is the maximum allowed count)\n",
    "\tnew_tweets = api.user_timeline(screen_name = screen_name,count=200)\n",
    "\t\n",
    "\t#save most recent tweets\n",
    "\talltweets.extend(new_tweets)\n",
    "\t\n",
    "\t#save the id of the oldest tweet less one\n",
    "\toldest = alltweets[-1].id - 1\n",
    "\t\n",
    "\t#keep grabbing tweets until there are no tweets left to grab\n",
    "\twhile len(new_tweets) > 0:\n",
    "\t\t#print (\"getting tweets before %s\" + (oldest))\n",
    "\t\t\n",
    "\t\t#all subsiquent requests use the max_id param to prevent duplicates\n",
    "\t\tnew_tweets = api.user_timeline(screen_name = screen_name,count=200,max_id=oldest)\n",
    "\t\t\n",
    "\t\t#save most recent tweets\n",
    "\t\talltweets.extend(new_tweets)\n",
    "\t\t\n",
    "\t\t#update the id of the oldest tweet less one\n",
    "\t\toldest = alltweets[-1].id - 1\n",
    "\t\t\n",
    "\t\t#print (\"...%s tweets downloaded so far\" % (len(alltweets)))\n",
    "\t\n",
    "\t#transform the tweepy tweets into a 2D array that will populate the csv\t\n",
    "\touttweets = [[tweet.id_str, tweet.created_at, tweet.text.encode(\"utf-8\")] for tweet in alltweets]\n",
    "\treturn outtweets[:5]\n",
    "\t#write the csv\t\n",
    "\twith open('%s_tweets.csv' % screen_name, 'wb') as f:\n",
    "\t\twriter = csv.writer(f)\n",
    "\t\t#writer.writerow([\"id\", \"created_at\", \"text\"])\n",
    "\t\t#writer.writerows(outtweets)\n",
    "\t\n",
    "\tpass\n",
    "\n"
   ]
  },
  {
   "cell_type": "code",
   "execution_count": 63,
   "metadata": {},
   "outputs": [],
   "source": [
    "tweets = get_all_tweets(\"Matias_12tw\")"
   ]
  },
  {
   "cell_type": "code",
   "execution_count": 64,
   "metadata": {},
   "outputs": [
    {
     "name": "stdout",
     "output_type": "stream",
     "text": [
      "b'RT @diana_aceves_: Todos deber\\xc3\\xadamos dar una charla, curso, taller, etc...de vez en cuando, solo por la cantidad de cosas que aprendemos mie\\xe2\\x80\\xa6'\n",
      "b'RT @gargantapodero: Otra vez, casi todos los medios son suyos.\\nPero los miedos no son nuestros.\\nNunca M\\xc3\\xa1s. https://t.co/cOjXMi1eYI'\n",
      "b'RT @teloresumo: Hola, me llamo Jorge, tengo 32 a\\xc3\\xb1os y necesito ganar este torneo. @DementeYT es un pibe joven y tiene toda la vida por dela\\xe2\\x80\\xa6'\n",
      "b'RT @elcosodelapizza: Haz sido visitado por el perro de los parciales, dale rt para aprobarlos todos. https://t.co/W2dmtK0svc'\n",
      "b'@T_Papablo Que buena peli'\n"
     ]
    }
   ],
   "source": [
    "for tweet in tweets:\n",
    "    print(tweet[2])"
   ]
  },
  {
   "cell_type": "code",
   "execution_count": 65,
   "metadata": {},
   "outputs": [],
   "source": [
    "#FIN PUNTO F"
   ]
  },
  {
   "cell_type": "code",
   "execution_count": 66,
   "metadata": {},
   "outputs": [],
   "source": [
    "#PUNTO G"
   ]
  },
  {
   "cell_type": "code",
   "execution_count": 67,
   "metadata": {},
   "outputs": [],
   "source": [
    "mati = API.get_user('Matias_12tw')"
   ]
  },
  {
   "cell_type": "code",
   "execution_count": 68,
   "metadata": {},
   "outputs": [],
   "source": [
    "seguidores = API.followers('T_Papablo')"
   ]
  },
  {
   "cell_type": "code",
   "execution_count": 69,
   "metadata": {},
   "outputs": [
    {
     "name": "stdout",
     "output_type": "stream",
     "text": [
      "Anton Caceres\n",
      "Directus\n",
      "Alessandra Fernándes\n",
      "Bob Mayer\n",
      "Zach Nelson\n",
      "Pipi💚\n",
      "josh\n",
      "Bruno Zappellini\n",
      "Marcela Carignani\n",
      "How We Roll Podcast\n",
      "Rolando Gonzalez-Jose\n",
      "B R E N D A ☆\n",
      "Alexandra Trujillo\n",
      "🇦🇷 El Tiempo Trelew\n",
      "Rocío\n",
      "LittleMissDani\n",
      "Matías Acosta\n",
      "Patagonia N\n",
      "Cecilia Mülbayer Hansen 🐷\n",
      "lucas krmpotic\n"
     ]
    }
   ],
   "source": [
    "for seguidor in seguidores:\n",
    "    print(seguidor.name)"
   ]
  },
  {
   "cell_type": "code",
   "execution_count": 70,
   "metadata": {},
   "outputs": [],
   "source": [
    "#FIN PUNTO G"
   ]
  },
  {
   "cell_type": "code",
   "execution_count": null,
   "metadata": {},
   "outputs": [],
   "source": []
  },
  {
   "cell_type": "code",
   "execution_count": 71,
   "metadata": {},
   "outputs": [],
   "source": [
    "#PUNTO 2_1_PASIVO"
   ]
  },
  {
   "cell_type": "code",
   "execution_count": 75,
   "metadata": {},
   "outputs": [],
   "source": [
    "#Usuario -> seguidores -> seguidores a su vez, >10\n",
    "#herramienta gráficos: d3js\n",
    "#seguidores (100, 150)\n",
    "# para agregar python 3 kernel : python3 -m ipykernel install --user"
   ]
  },
  {
   "cell_type": "code",
   "execution_count": 76,
   "metadata": {},
   "outputs": [],
   "source": [
    "api = tweepy.API(auth, parser=tweepy.parsers.JSONParser())"
   ]
  },
  {
   "cell_type": "code",
   "execution_count": 77,
   "metadata": {},
   "outputs": [],
   "source": [
    "def seguidores_ids(usuario):        \n",
    "    print(usuario)\n",
    "    f = []\n",
    "    seguidores_usuario = [] # top 10 de un usuario\n",
    "    for page in tweepy.Cursor(api.followers_ids, screen_name=usuario).pages():                         \n",
    "        f.append(page)        \n",
    "        time.sleep(60)  \n",
    "\n",
    "    cant = 1\n",
    "    for v in f:    \n",
    "        for vids in v['ids']:\n",
    "            u = api.get_user(vids) #se obtiene el usuario.            \n",
    "            if u['followers_count']>10:\n",
    "                seguidores_usuario.append(u['screen_name'])\n",
    "                cant+=1\n",
    "                if cant >10: #del usuario X se toman 10 seguidores\n",
    "                    break\n",
    "    return seguidores_usuario"
   ]
  },
  {
   "cell_type": "code",
   "execution_count": 78,
   "metadata": {},
   "outputs": [
    {
     "name": "stdout",
     "output_type": "stream",
     "text": [
      "renatosf\n"
     ]
    }
   ],
   "source": [
    "red_usuarios = {} \n",
    "search_result = api.search(q=top_trends[1], count=200)    \n",
    "for i in search_result['statuses']:\n",
    "    if(i['user']['followers_count'])>10:              \n",
    "        usuario_X = i['user']['screen_name']                \n",
    "resul = seguidores_ids(usuario_X) #Usuario X; Julieta2012\n"
   ]
  },
  {
   "cell_type": "code",
   "execution_count": null,
   "metadata": {},
   "outputs": [
    {
     "name": "stdout",
     "output_type": "stream",
     "text": [
      "Gabriel19907793\n",
      "FrancieleCPrett\n",
      "GiovaniniAdri\n",
      "_pedrogalodoido\n",
      "MrcioMso1\n",
      "gustavosab22\n"
     ]
    }
   ],
   "source": [
    "red_usuarios[usuario_X] = resul\n",
    "\n",
    "for r in resul: # a los 10 del primer usuario, se repite la misma acción\n",
    "    try:\n",
    "        red_usuarios[r] = seguidores_ids(r)        \n",
    "    except tweepy.TweepError:\n",
    "        pass #ignora el usuario que dio error"
   ]
  },
  {
   "cell_type": "code",
   "execution_count": null,
   "metadata": {},
   "outputs": [],
   "source": [
    "db_usuarios = {}\n",
    "list_seguidores = []\n",
    "for k, v in red_usuarios.items():\n",
    "    for i in v: #seguidores de un k usuario\n",
    "        u = api.get_user(i) #se obtiene el usuario (seguidor).\n",
    "        list_seguidores.append(u) #nombre y cantidad de tweets del seguidor   ['statuses_count']\n",
    "    db_usuarios[k]= list_seguidores"
   ]
  },
  {
   "cell_type": "code",
   "execution_count": null,
   "metadata": {},
   "outputs": [],
   "source": [
    "json = json.dumps(db_usuarios)\n",
    "f = open(\"db_total_usuarios_completo.json\",\"w\")\n",
    "f.write(json)\n",
    "f.close()"
   ]
  },
  {
   "cell_type": "code",
   "execution_count": null,
   "metadata": {},
   "outputs": [],
   "source": []
  }
 ],
 "metadata": {
  "kernelspec": {
   "display_name": "Python 3",
   "language": "python",
   "name": "python3"
  },
  "language_info": {
   "codemirror_mode": {
    "name": "ipython",
    "version": 3
   },
   "file_extension": ".py",
   "mimetype": "text/x-python",
   "name": "python",
   "nbconvert_exporter": "python",
   "pygments_lexer": "ipython3",
   "version": "3.5.2"
  }
 },
 "nbformat": 4,
 "nbformat_minor": 2
}
