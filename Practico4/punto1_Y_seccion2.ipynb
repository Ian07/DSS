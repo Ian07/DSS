{
 "cells": [
  {
   "cell_type": "code",
   "execution_count": 1,
   "metadata": {},
   "outputs": [],
   "source": [
    "import tweepy\n",
    "import json\n",
    "import pandas as pd\n",
    "from collections import Counter\n",
    "from pprint import pprint \n",
    "import operator \n",
    "import time\n",
    "from itertools import islice"
   ]
  },
  {
   "cell_type": "code",
   "execution_count": 2,
   "metadata": {},
   "outputs": [],
   "source": [
    "#PUNTO A"
   ]
  },
  {
   "cell_type": "code",
   "execution_count": 3,
   "metadata": {},
   "outputs": [],
   "source": [
    "auth = tweepy.OAuthHandler(\"MwBn5s2sjQ3vrRYMXuc9BtYfw\", \"36Cc2pA4NN89wTXs3LgUCxSznlpa4v8PoPYw6WTLuH1BF8V5vC\")\n",
    "auth.set_access_token(\"1037434933835378694-bUg0vb50KLHiaC78YtIa2pxSdnEytU\", \"VHvbqFILbnDgv2xZesppbs7f1Fk2QPDBIJFB8KoYkUCUH\")\n",
    "api = tweepy.API(auth, parser=tweepy.parsers.JSONParser())"
   ]
  },
  {
   "cell_type": "code",
   "execution_count": 4,
   "metadata": {},
   "outputs": [],
   "source": [
    "me = api.me() #Para futuro uso"
   ]
  },
  {
   "cell_type": "code",
   "execution_count": 5,
   "metadata": {},
   "outputs": [],
   "source": [
    "trends_mundiales = api.trends_place(1) \n"
   ]
  },
  {
   "cell_type": "code",
   "execution_count": 6,
   "metadata": {},
   "outputs": [],
   "source": [
    "nombre_trends = set([trend['name'] for trend in trends_mundiales[0]['trends']])"
   ]
  },
  {
   "cell_type": "code",
   "execution_count": 7,
   "metadata": {},
   "outputs": [],
   "source": [
    "top_trends = [] #para uso en el punto siguiente"
   ]
  },
  {
   "cell_type": "code",
   "execution_count": 8,
   "metadata": {},
   "outputs": [
    {
     "name": "stdout",
     "output_type": "stream",
     "text": [
      "#BatmanDay\n",
      "#InterParma\n",
      "#BANvSL\n"
     ]
    }
   ],
   "source": [
    "for i, val in enumerate(islice(nombre_trends, 3)):\n",
    "    top_trends.append(val)\n",
    "    print(val)\n",
    "    "
   ]
  },
  {
   "cell_type": "code",
   "execution_count": 9,
   "metadata": {},
   "outputs": [],
   "source": [
    "#FIN PUNTO A"
   ]
  },
  {
   "cell_type": "code",
   "execution_count": 10,
   "metadata": {},
   "outputs": [],
   "source": [
    "#PUNTO B"
   ]
  },
  {
   "cell_type": "code",
   "execution_count": 11,
   "metadata": {},
   "outputs": [
    {
     "name": "stdout",
     "output_type": "stream",
     "text": [
      "########### #BatmanDay ###########\n",
      "########### #InterParma ###########\n",
      "########### #BANvSL ###########\n"
     ]
    }
   ],
   "source": [
    "for t in top_trends:    \n",
    "    print(\"########### \" + t + \" ###########\" )\n",
    "    search_result = api.search(q=t)    \n",
    "    for i in search_result['statuses']:\n",
    "        (i['user']['screen_name'])   #para printear los usuarios "
   ]
  },
  {
   "cell_type": "code",
   "execution_count": 12,
   "metadata": {},
   "outputs": [],
   "source": [
    "#FIN PUNTO B"
   ]
  },
  {
   "cell_type": "code",
   "execution_count": 13,
   "metadata": {},
   "outputs": [],
   "source": [
    "#PUNTO C"
   ]
  },
  {
   "cell_type": "code",
   "execution_count": 14,
   "metadata": {},
   "outputs": [
    {
     "name": "stdout",
     "output_type": "stream",
     "text": [
      "########### #BatmanDay ###########\n",
      "[('#batmanday', 12), ('rt', 11), ('to', 8), ('the', 6), ('happy', 5)]\n",
      "########### #InterParma ###########\n",
      "[('#interparma', 13), ('rt', 10), ('di', 9), ('il', 6), ('che', 5)]\n",
      "########### #BANvSL ###########\n",
      "[('#banvsl', 11), ('after', 7), ('rt', 7), ('sri', 6), ('lanka', 6)]\n"
     ]
    }
   ],
   "source": [
    "for t in top_trends:  \n",
    "    print(\"########### \" + t + \" ###########\" )\n",
    "    cnt = Counter() \n",
    "    tweets = api.search(q=t)    \n",
    "    for i in tweets['statuses']:                \n",
    "        for word in i[\"text\"].split(): \n",
    "            cnt[word.lower()] += 1\n",
    "    sorted_cnt = sorted(cnt.items(),key=operator.itemgetter(1),reverse=True) #python2: iteritems\n",
    "    pprint(sorted_cnt[:5]) # top 5 palabras \n",
    "    "
   ]
  },
  {
   "cell_type": "code",
   "execution_count": 15,
   "metadata": {},
   "outputs": [],
   "source": [
    "#FIN PUNTO C"
   ]
  },
  {
   "cell_type": "code",
   "execution_count": 16,
   "metadata": {},
   "outputs": [],
   "source": [
    "#PUNTO 2_1_PASIVO"
   ]
  },
  {
   "cell_type": "code",
   "execution_count": 17,
   "metadata": {},
   "outputs": [],
   "source": [
    "#Usuario -> seguidores -> seguidores a su vez, >10\n",
    "#herramienta gráficos: d3js\n",
    "#seguidores (100, 150)\n",
    "# para agregar python 3 kernel : python3 -m ipykernel install --user"
   ]
  },
  {
   "cell_type": "code",
   "execution_count": 18,
   "metadata": {},
   "outputs": [],
   "source": [
    "def seguidores(usuario):    \n",
    "    #ids = []\n",
    "    f = []\n",
    "    #cant = 1\n",
    "    for page in tweepy.Cursor(api.followers_ids, screen_name=usuario).pages():                 \n",
    "        #f.append(page['users'][0]['screen_name'])\n",
    "        f.append(page)\n",
    "        #ids.extend(page)\n",
    "        time.sleep(60)        \n",
    "        '''\n",
    "        if cant >10:\n",
    "            break\n",
    "        else:\n",
    "            cant+=1        \n",
    "        '''\n",
    "    return f\n",
    "            "
   ]
  },
  {
   "cell_type": "code",
   "execution_count": 19,
   "metadata": {},
   "outputs": [
    {
     "name": "stdout",
     "output_type": "stream",
     "text": [
      "JaredPollard28\n"
     ]
    }
   ],
   "source": [
    "red_usuarios = {} \n",
    "search_result = api.search(q=top_trends[1], count=200)    \n",
    "for i in search_result['statuses']:\n",
    "    if(i['user']['followers_count'])>10:              \n",
    "        usuario_X = i['user']['screen_name']\n",
    "        print(usuario_X)\n",
    "        break\n",
    "f= seguidores(usuario_X)\n"
   ]
  },
  {
   "cell_type": "code",
   "execution_count": 22,
   "metadata": {},
   "outputs": [
    {
     "name": "stdout",
     "output_type": "stream",
     "text": [
      "BULLETlN\n",
      "tipsterreviews\n",
      "juvephotos_\n",
      "Mz_Rej\n",
      "merchanttunes\n",
      "SocialAdsPro\n",
      "RiRiStarr\n",
      "reggaeyardvybz1\n",
      "KobbyHunt\n",
      "xoxo_fii\n"
     ]
    }
   ],
   "source": [
    "cant = 1\n",
    "for v in f:    \n",
    "    for vids in v['ids']:\n",
    "        u = api.get_user(vids) #se obtiene el usuario.\n",
    "        if u['followers_count']>10:\n",
    "            print(u['screen_name'])\n",
    "            cant+=1\n",
    "            if cant >10:\n",
    "                break\n",
    "        \n",
    "        "
   ]
  }
 ],
 "metadata": {
  "kernelspec": {
   "display_name": "Python 3",
   "language": "python",
   "name": "python3"
  },
  "language_info": {
   "codemirror_mode": {
    "name": "ipython",
    "version": 3
   },
   "file_extension": ".py",
   "mimetype": "text/x-python",
   "name": "python",
   "nbconvert_exporter": "python",
   "pygments_lexer": "ipython3",
   "version": "3.6.5"
  }
 },
 "nbformat": 4,
 "nbformat_minor": 2
}
