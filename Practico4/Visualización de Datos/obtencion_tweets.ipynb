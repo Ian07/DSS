{
 "cells": [
  {
   "cell_type": "markdown",
   "metadata": {},
   "source": [
    "## Obtención de Tweet's del usuario root (Julieta2012) y sus seguidores para su posterior analisis"
   ]
  },
  {
   "cell_type": "code",
   "execution_count": 1,
   "metadata": {},
   "outputs": [],
   "source": [
    "import json\n",
    "import tweepy"
   ]
  },
  {
   "cell_type": "code",
   "execution_count": 2,
   "metadata": {},
   "outputs": [],
   "source": [
    "auth = tweepy.OAuthHandler(\"MwBn5s2sjQ3vrRYMXuc9BtYfw\", \"36Cc2pA4NN89wTXs3LgUCxSznlpa4v8PoPYw6WTLuH1BF8V5vC\")\n",
    "auth.set_access_token(\"1037434933835378694-bUg0vb50KLHiaC78YtIa2pxSdnEytU\", \"VHvbqFILbnDgv2xZesppbs7f1Fk2QPDBIJFB8KoYkUCUH\")\n",
    "api = tweepy.API(auth, parser=tweepy.parsers.JSONParser())\n",
    "#api.wait_on_rate_limit=True #en caso que haya problema con el rate limit\n",
    "\n",
    "usuario_root = api.get_user(screen_name='Julieta2012')"
   ]
  },
  {
   "cell_type": "code",
   "execution_count": 6,
   "metadata": {},
   "outputs": [],
   "source": [
    "#Obtenemos el JSON donde están los seguidores de Julieta2012\n",
    "with open('datos_usuarios.json') as f:\n",
    "    data = json.load(f)"
   ]
  },
  {
   "cell_type": "code",
   "execution_count": 8,
   "metadata": {},
   "outputs": [],
   "source": [
    "tweets = []\n",
    "\n",
    "#Vamos a tomar los ultimos 200 (por el rate limit)\n",
    "nuevos_tweets = api.user_timeline(screen_name=usuario_root['screen_name'],count=200)\n",
    "\n",
    "tweets.extend(nuevos_tweets)"
   ]
  },
  {
   "cell_type": "code",
   "execution_count": 9,
   "metadata": {},
   "outputs": [],
   "source": [
    "#vamos a agregarle los tweets de los seguidores de Julieta2012\n",
    "seguidores = data['Julieta2012']\n",
    "\n",
    "for seguidor in seguidores[0:10]:\n",
    "    nuevos_tweets = api.user_timeline(screen_name=seguidor['screen_name'],count=200)\n",
    "    tweets.extend(nuevos_tweets)"
   ]
  },
  {
   "cell_type": "code",
   "execution_count": 10,
   "metadata": {},
   "outputs": [],
   "source": [
    "#Vamos a guardar todos los tweets en un json\n",
    "with open('tweets.json','w') as archivo_salida:\n",
    "    json.dump(tweets,archivo_salida)"
   ]
  }
 ],
 "metadata": {
  "kernelspec": {
   "display_name": "ml",
   "language": "python",
   "name": "ml"
  },
  "language_info": {
   "codemirror_mode": {
    "name": "ipython",
    "version": 3
   },
   "file_extension": ".py",
   "mimetype": "text/x-python",
   "name": "python",
   "nbconvert_exporter": "python",
   "pygments_lexer": "ipython3",
   "version": "3.5.3"
  }
 },
 "nbformat": 4,
 "nbformat_minor": 2
}
