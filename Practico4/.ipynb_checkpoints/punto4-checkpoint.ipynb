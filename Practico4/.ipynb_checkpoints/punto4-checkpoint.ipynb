{
 "cells": [
  {
   "cell_type": "code",
   "execution_count": 69,
   "metadata": {},
   "outputs": [],
   "source": [
    "import mf2py"
   ]
  },
  {
   "cell_type": "code",
   "execution_count": 70,
   "metadata": {},
   "outputs": [],
   "source": [
    "hcard_content= \"<cite class='vcard'>\\\n",
    " <a class='fn url' href='http://meyerweb.com/'>Eric Meyer</a>\\\n",
    "</cite> wrote a post\\\n",
    "(<cite>\\\n",
    "  <a href='http://meyerweb.com/eric/thoughts/2005/12/16/tax-relief/'>\\\n",
    "   Tax Relief\\\n",
    "  </a>\\\n",
    " </cite>)\\\n",
    "about an unintentionally humorous letter he received from the\\\n",
    "<span class='vcard'>\\\n",
    " <a class='fn org url' href='http://irs.gov/'>Internal Revenue Service</a>\\\n",
    "</span>.\\\n",
    "\"\n"
   ]
  },
  {
   "cell_type": "code",
   "execution_count": 71,
   "metadata": {},
   "outputs": [],
   "source": [
    "obj_2 = mf2py.Parser(doc=hcard_content)"
   ]
  },
  {
   "cell_type": "code",
   "execution_count": 72,
   "metadata": {},
   "outputs": [
    {
     "data": {
      "text/plain": [
       "[{u'properties': {u'name': [u'Eric Meyer'], u'url': [u'http://meyerweb.com/']},\n",
       "  u'type': [u'h-card']},\n",
       " {u'properties': {u'name': [u'Internal Revenue Service'],\n",
       "   u'org': [u'Internal Revenue Service'],\n",
       "   u'url': [u'http://irs.gov/']},\n",
       "  u'type': [u'h-card']}]"
      ]
     },
     "execution_count": 72,
     "metadata": {},
     "output_type": "execute_result"
    }
   ],
   "source": [
    "obj_2.to_dict(filter_by_type=\"h-card\") #PUNTO 4A)"
   ]
  },
  {
   "cell_type": "code",
   "execution_count": 73,
   "metadata": {},
   "outputs": [],
   "source": [
    "content = \"<div class='vevent'>\\\n",
    "              <h5 class='summary'>Laurel is in sensitivity awareness class.</h5>\\\n",
    "              <div>Posted on: <abbr class='dtstamp' title='19970901T1300Z'>September 1, 1997</abbr></div>\\\n",
    "              <div class='uid'>19970901T130000Z-123402@host.com</div>\\\n",
    "              <div>Dates: <abbr class='dtstart' title='19970401T163000Z'>April 1, 1997, 16:30 UTC</abbr>-\\\n",
    "                <abbr class='dtend' title='19970402T010000Z'>April 2, 1997 01:00 UTC</abbr></div>\\\n",
    "              <div>This event is <span class='class'>public</span> and <span class='transp'>transparent</span> to free/busy scheduling.</div>\\\n",
    "              <div>Filed under:</div>\\\n",
    "                <ul>\\\n",
    "                  <li class='category'>Business</li>\\\n",
    "                  <li class='category'>Human Resources</li>\\\n",
    "                </ul>\\\n",
    "            </div>\\\n",
    "            \"\n"
   ]
  },
  {
   "cell_type": "code",
   "execution_count": 74,
   "metadata": {},
   "outputs": [],
   "source": [
    "obj = mf2py.Parser(doc=content)"
   ]
  },
  {
   "cell_type": "code",
   "execution_count": 75,
   "metadata": {},
   "outputs": [
    {
     "data": {
      "text/plain": [
       "[{u'properties': {u'category': [u'Business', u'Human Resources'],\n",
       "   u'end': [u'19970402T010000Z'],\n",
       "   u'name': [u'Laurel is in sensitivity awareness class.'],\n",
       "   u'start': [u'19970401T163000Z']},\n",
       "  u'type': [u'h-event']}]"
      ]
     },
     "execution_count": 75,
     "metadata": {},
     "output_type": "execute_result"
    }
   ],
   "source": [
    "obj.to_dict(filter_by_type=\"h-event\") #PUNTO 4B)"
   ]
  }
 ],
 "metadata": {
  "kernelspec": {
   "display_name": "Python 2",
   "language": "python",
   "name": "python2"
  },
  "language_info": {
   "codemirror_mode": {
    "name": "ipython",
    "version": 2
   },
   "file_extension": ".py",
   "mimetype": "text/x-python",
   "name": "python",
   "nbconvert_exporter": "python",
   "pygments_lexer": "ipython2",
   "version": "2.7.15rc1"
  }
 },
 "nbformat": 4,
 "nbformat_minor": 2
}
