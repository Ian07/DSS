{
 "cells": [
  {
   "cell_type": "code",
   "execution_count": 13,
   "metadata": {},
   "outputs": [],
   "source": [
    "import os\n",
    "os.environ[\"GOOGLE_APPLICATION_CREDENTIALS\"]=\"/home/ian/Documentos/facultad2018/DSS/GIT/DSS/Practico4/client_secret.json\"\n",
    "\n",
    "from apiclient.discovery import build\n",
    "service = build('plus', 'v1')"
   ]
  },
  {
   "cell_type": "code",
   "execution_count": 23,
   "metadata": {},
   "outputs": [
    {
     "name": "stdout",
     "output_type": "stream",
     "text": [
      "\"Daniel Ortega nunca dejó de ser el preso No. 198\": cómo la cárcel marcó al presidente de Nicaragua ...\n",
      "Qué es el varicocele, una de las causas más comunes de infertilidad masculina https://bbc.in/2NjPtkE\n",
      "Liverpool vs. PSG en la Champions League: por qué Kylian Mbappé puede convertirse en el mejor futbolista...\n",
      "Guía básica para identificar noticias falsas (antes de mandarlas a tus grupos de WhatsApp) https://bbc.in...\n",
      "Las curiosas razones por las que los animales marinos no pueden dejar de comer plástico https://bbc.in...\n",
      "Quién es Salt Bae, el excéntrico chef turco que sirvió la polémica cena a Maduro en Estambul https:/...\n",
      "Yusaku Maezawa, el multimillonario japonés que que se convertirá en el primer turista en viajar a la...\n",
      "Por qué los niños hacen pataletas a partir de los dos años (y 8 consejos para lidiar con ellas) https...\n",
      "¿A dónde va todo el peso que perdemos cuando adelgazamos? https://bbc.in/2Nl7M93\n",
      "El video de Maduro con el chef Salt Bae y la cena en Estambul que causan polémica en Venezuela https...\n",
      "Pyotr Verzilov, miembro de Pussy Riot, fue “muy probablemente envenenado” en Rusia dos meses después...\n",
      "¿Por qué los argentinos están obsesionados con el dólar? https://bbc.in/2D3LZy9\n",
      "Identifican al joven que murió atacado por un tiburón en Estados Unidos: un estudiante brasileño que...\n",
      "Asesinan en un campo de golf de Estados Unidos a Celia Barquín Arozamena, golfista española y campeona...\n",
      "Así funciona el tren de hidrógeno que inició operaciones en Alemania, el primero en entrar en servicio...\n",
      "Siria derriba por error un avión militar de Rusia y Moscú responsabiliza a Israel https://bbc.in/2D8O2RD...\n",
      "Emmy 2018: una petición de matrimonio en pleno escenario y otros 4 detalles destacados de los premios...\n",
      "Donald Trump vs. China: qué consecuencias tendrán los aranceles por valor de US$200.000 millones anunciados...\n",
      "México: el escándalo por las decenas de cuerpos encontrados en un tráiler en Jalisco https://bbc.in/...\n",
      "Qué tiene de especial la ciudad de Berlín para que en ella se hayan batido los últimos 9 récords del...\n"
     ]
    }
   ],
   "source": [
    " # List my public Google+ activities.\n",
    " result = service.activities().list(userId='+BBCMundo', collection='public').execute()\n",
    " tasks = result.get('items', [])\n",
    " for task in tasks:\n",
    "   print(task['title'])"
   ]
  },
  {
   "cell_type": "code",
   "execution_count": 32,
   "metadata": {},
   "outputs": [
    {
     "data": {
      "text/plain": [
       "'\"Daniel Ortega nunca dejó de ser el preso No. 198\": cómo la cárcel marcó al presidente de Nicaragua ...'"
      ]
     },
     "execution_count": 32,
     "metadata": {},
     "output_type": "execute_result"
    }
   ],
   "source": [
    "tasks[0]['title']"
   ]
  },
  {
   "cell_type": "code",
   "execution_count": 34,
   "metadata": {},
   "outputs": [
    {
     "ename": "ImportError",
     "evalue": "No module named 'nltk'",
     "output_type": "error",
     "traceback": [
      "\u001b[0;31m---------------------------------------------------------------------------\u001b[0m",
      "\u001b[0;31mImportError\u001b[0m                               Traceback (most recent call last)",
      "\u001b[0;32m<ipython-input-34-14d052b8e834>\u001b[0m in \u001b[0;36m<module>\u001b[0;34m()\u001b[0m\n\u001b[0;32m----> 1\u001b[0;31m \u001b[0;32mimport\u001b[0m \u001b[0mnltk\u001b[0m\u001b[0;34m\u001b[0m\u001b[0m\n\u001b[0m\u001b[1;32m      2\u001b[0m \u001b[0;34m\u001b[0m\u001b[0m\n\u001b[1;32m      3\u001b[0m \u001b[0msentence\u001b[0m \u001b[0;34m=\u001b[0m \u001b[0mtasks\u001b[0m\u001b[0;34m[\u001b[0m\u001b[0;36m0\u001b[0m\u001b[0;34m]\u001b[0m\u001b[0;34m[\u001b[0m\u001b[0;34m'title'\u001b[0m\u001b[0;34m]\u001b[0m\u001b[0;34m\u001b[0m\u001b[0m\n\u001b[1;32m      4\u001b[0m \u001b[0;34m\u001b[0m\u001b[0m\n\u001b[1;32m      5\u001b[0m \u001b[0mtokens\u001b[0m \u001b[0;34m=\u001b[0m \u001b[0mnltk\u001b[0m\u001b[0;34m.\u001b[0m\u001b[0mword_tokenize\u001b[0m\u001b[0;34m(\u001b[0m\u001b[0msentence\u001b[0m\u001b[0;34m)\u001b[0m\u001b[0;34m\u001b[0m\u001b[0m\n",
      "\u001b[0;31mImportError\u001b[0m: No module named 'nltk'"
     ]
    }
   ],
   "source": [
    "import nltk\n",
    "\n",
    "sentence = tasks[0]['title']\n",
    "\n",
    "tokens = nltk.word_tokenize(sentence)\n",
    "\n",
    "tokens"
   ]
  },
  {
   "cell_type": "code",
   "execution_count": null,
   "metadata": {},
   "outputs": [],
   "source": []
  },
  {
   "cell_type": "code",
   "execution_count": null,
   "metadata": {},
   "outputs": [],
   "source": []
  },
  {
   "cell_type": "code",
   "execution_count": null,
   "metadata": {},
   "outputs": [],
   "source": []
  },
  {
   "cell_type": "code",
   "execution_count": null,
   "metadata": {},
   "outputs": [],
   "source": []
  },
  {
   "cell_type": "code",
   "execution_count": null,
   "metadata": {},
   "outputs": [],
   "source": []
  },
  {
   "cell_type": "code",
   "execution_count": null,
   "metadata": {},
   "outputs": [],
   "source": []
  },
  {
   "cell_type": "code",
   "execution_count": null,
   "metadata": {},
   "outputs": [],
   "source": []
  },
  {
   "cell_type": "code",
   "execution_count": null,
   "metadata": {},
   "outputs": [],
   "source": []
  },
  {
   "cell_type": "code",
   "execution_count": null,
   "metadata": {},
   "outputs": [],
   "source": []
  },
  {
   "cell_type": "code",
   "execution_count": null,
   "metadata": {},
   "outputs": [],
   "source": []
  },
  {
   "cell_type": "code",
   "execution_count": null,
   "metadata": {},
   "outputs": [],
   "source": []
  },
  {
   "cell_type": "code",
   "execution_count": null,
   "metadata": {},
   "outputs": [],
   "source": []
  },
  {
   "cell_type": "code",
   "execution_count": null,
   "metadata": {},
   "outputs": [],
   "source": []
  },
  {
   "cell_type": "code",
   "execution_count": null,
   "metadata": {},
   "outputs": [],
   "source": []
  },
  {
   "cell_type": "code",
   "execution_count": null,
   "metadata": {},
   "outputs": [],
   "source": []
  },
  {
   "cell_type": "code",
   "execution_count": null,
   "metadata": {},
   "outputs": [],
   "source": []
  },
  {
   "cell_type": "code",
   "execution_count": null,
   "metadata": {},
   "outputs": [],
   "source": []
  },
  {
   "cell_type": "code",
   "execution_count": null,
   "metadata": {},
   "outputs": [],
   "source": []
  },
  {
   "cell_type": "code",
   "execution_count": null,
   "metadata": {},
   "outputs": [],
   "source": []
  }
 ],
 "metadata": {
  "kernelspec": {
   "display_name": "Python 3",
   "language": "python",
   "name": "python3"
  },
  "language_info": {
   "codemirror_mode": {
    "name": "ipython",
    "version": 3
   },
   "file_extension": ".py",
   "mimetype": "text/x-python",
   "name": "python",
   "nbconvert_exporter": "python",
   "pygments_lexer": "ipython3",
   "version": "3.5.2"
  }
 },
 "nbformat": 4,
 "nbformat_minor": 2
}
