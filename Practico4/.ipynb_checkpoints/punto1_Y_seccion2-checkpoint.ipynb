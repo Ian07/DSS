{
 "cells": [
  {
   "cell_type": "code",
   "execution_count": 1,
   "metadata": {},
   "outputs": [],
   "source": [
    "import tweepy\n",
    "import json\n",
    "import pandas as pd\n",
    "from collections import Counter\n",
    "from pprint import pprint \n",
    "import operator \n",
    "import time\n",
    "from itertools import islice"
   ]
  },
  {
   "cell_type": "code",
   "execution_count": 2,
   "metadata": {},
   "outputs": [],
   "source": [
    "#PUNTO A"
   ]
  },
  {
   "cell_type": "code",
   "execution_count": 3,
   "metadata": {},
   "outputs": [],
   "source": [
    "auth = tweepy.OAuthHandler(\"MwBn5s2sjQ3vrRYMXuc9BtYfw\", \"36Cc2pA4NN89wTXs3LgUCxSznlpa4v8PoPYw6WTLuH1BF8V5vC\")\n",
    "auth.set_access_token(\"1037434933835378694-bUg0vb50KLHiaC78YtIa2pxSdnEytU\", \"VHvbqFILbnDgv2xZesppbs7f1Fk2QPDBIJFB8KoYkUCUH\")\n",
    "api = tweepy.API(auth, parser=tweepy.parsers.JSONParser())\n",
    "#api.wait_on_rate_limit=True #en caso que haya problema con el rate limit"
   ]
  },
  {
   "cell_type": "code",
   "execution_count": 4,
   "metadata": {},
   "outputs": [],
   "source": [
    "trends_mundiales = api.trends_place(1) \n"
   ]
  },
  {
   "cell_type": "code",
   "execution_count": 5,
   "metadata": {},
   "outputs": [],
   "source": [
    "nombre_trends = set([trend['name'] for trend in trends_mundiales[0]['trends']])"
   ]
  },
  {
   "cell_type": "code",
   "execution_count": 6,
   "metadata": {},
   "outputs": [],
   "source": [
    "top_trends = [] #para uso en el punto siguiente"
   ]
  },
  {
   "cell_type": "code",
   "execution_count": 7,
   "metadata": {},
   "outputs": [
    {
     "name": "stdout",
     "output_type": "stream",
     "text": [
      "Vamos Grêmio\n",
      "#CosasQueNadieDeberíaHacer\n",
      "Bert and Ernie\n"
     ]
    }
   ],
   "source": [
    "for i, val in enumerate(islice(nombre_trends, 3)):\n",
    "    top_trends.append(val)\n",
    "    print(val)\n",
    "    "
   ]
  },
  {
   "cell_type": "code",
   "execution_count": 8,
   "metadata": {},
   "outputs": [],
   "source": [
    "#FIN PUNTO A"
   ]
  },
  {
   "cell_type": "code",
   "execution_count": 9,
   "metadata": {},
   "outputs": [],
   "source": [
    "#PUNTO B"
   ]
  },
  {
   "cell_type": "code",
   "execution_count": 10,
   "metadata": {},
   "outputs": [
    {
     "name": "stdout",
     "output_type": "stream",
     "text": [
      "########### Vamos Grêmio ###########\n",
      "########### #CosasQueNadieDeberíaHacer ###########\n",
      "########### Bert and Ernie ###########\n"
     ]
    }
   ],
   "source": [
    "for t in top_trends:    \n",
    "    print(\"########### \" + t + \" ###########\" )\n",
    "    search_result = api.search(q=t)    \n",
    "    for i in search_result['statuses']:\n",
    "        (i['user']['screen_name'])   #para printear los usuarios         "
   ]
  },
  {
   "cell_type": "code",
   "execution_count": 11,
   "metadata": {},
   "outputs": [],
   "source": [
    "#FIN PUNTO B"
   ]
  },
  {
   "cell_type": "code",
   "execution_count": 12,
   "metadata": {},
   "outputs": [],
   "source": [
    "#PUNTO C"
   ]
  },
  {
   "cell_type": "code",
   "execution_count": 13,
   "metadata": {},
   "outputs": [
    {
     "name": "stdout",
     "output_type": "stream",
     "text": [
      "########### Vamos Grêmio ###########\n",
      "[('a', 14), ('o', 13), ('bola', 13), ('vamos', 10), ('rt', 9)]\n",
      "########### #CosasQueNadieDeberíaHacer ###########\n",
      "[('#cosasquenadiedeberíahacer', 13),\n",
      " ('la', 6),\n",
      " ('que', 6),\n",
      " ('rt', 5),\n",
      " ('de', 5)]\n",
      "########### Bert and Ernie ###########\n",
      "[('and', 15), ('bert', 13), ('rt', 10), ('ernie', 10), ('a', 9)]\n"
     ]
    }
   ],
   "source": [
    "for t in top_trends:  \n",
    "    print(\"########### \" + t + \" ###########\" )\n",
    "    cnt = Counter() \n",
    "    tweets = api.search(q=t)    \n",
    "    for i in tweets['statuses']:                \n",
    "        for word in i[\"text\"].split(): \n",
    "            cnt[word.lower()] += 1\n",
    "    sorted_cnt = sorted(cnt.items(),key=operator.itemgetter(1),reverse=True) #python2: iteritems\n",
    "    pprint(sorted_cnt[:5]) # top 5 palabras \n",
    "    "
   ]
  },
  {
   "cell_type": "code",
   "execution_count": 14,
   "metadata": {},
   "outputs": [],
   "source": [
    "#FIN PUNTO C"
   ]
  },
  {
   "cell_type": "code",
   "execution_count": 15,
   "metadata": {},
   "outputs": [],
   "source": [
    "#PUNTO 2_1_PASIVO"
   ]
  },
  {
   "cell_type": "code",
   "execution_count": 16,
   "metadata": {},
   "outputs": [],
   "source": [
    "#Usuario -> seguidores -> seguidores a su vez, >10\n",
    "#herramienta gráficos: d3js\n",
    "#seguidores (100, 150)\n",
    "# para agregar python 3 kernel : python3 -m ipykernel install --user"
   ]
  },
  {
   "cell_type": "code",
   "execution_count": 17,
   "metadata": {},
   "outputs": [],
   "source": [
    "def seguidores_ids(usuario):        \n",
    "    print(usuario)\n",
    "    f = []\n",
    "    seguidores_usuario = [] # top 10 de un usuario\n",
    "    for page in tweepy.Cursor(api.followers_ids, screen_name=usuario).pages():                         \n",
    "        f.append(page)        \n",
    "        time.sleep(60)  \n",
    "\n",
    "    cant = 1\n",
    "    for v in f:    \n",
    "        for vids in v['ids']:\n",
    "            u = api.get_user(vids) #se obtiene el usuario.            \n",
    "            if u['followers_count']>10:\n",
    "                seguidores_usuario.append(u['screen_name'])\n",
    "                cant+=1\n",
    "                if cant >10: #del usuario X se toman 10 seguidores\n",
    "                    break\n",
    "    return seguidores_usuario"
   ]
  },
  {
   "cell_type": "code",
   "execution_count": 19,
   "metadata": {},
   "outputs": [
    {
     "name": "stdout",
     "output_type": "stream",
     "text": [
      "Julieta2012\n"
     ]
    }
   ],
   "source": [
    "red_usuarios = {} \n",
    "search_result = api.search(q=top_trends[1], count=200)    \n",
    "for i in search_result['statuses']:\n",
    "    if(i['user']['followers_count'])>10:              \n",
    "        usuario_X = i['user']['screen_name']                \n",
    "resul = seguidores_ids(usuario_X) #Usuario X; Julieta2012\n"
   ]
  },
  {
   "cell_type": "code",
   "execution_count": 20,
   "metadata": {},
   "outputs": [
    {
     "name": "stdout",
     "output_type": "stream",
     "text": [
      "Briagowsky\n",
      "Said_Mireles\n",
      "SoyGodinMX\n",
      "jestoryas\n",
      "homestaffmexico\n",
      "f_gonzal\n",
      "J_Juerfons\n",
      "Miguelmezac\n",
      "_AlberSan\n",
      "teresacastellmx\n"
     ]
    }
   ],
   "source": [
    "red_usuarios[usuario_X] = resul\n",
    "\n",
    "for r in resul: # a los 10 del primer usuario, se repite la misma acción\n",
    "    try:\n",
    "        red_usuarios[r] = seguidores_ids(r)        \n",
    "    except tweepy.TweepError:\n",
    "        pass #ignora el usuario que dio error"
   ]
  },
  {
   "cell_type": "code",
   "execution_count": 22,
   "metadata": {},
   "outputs": [],
   "source": [
    "db_usuarios = {}\n",
    "list_seguidores = []\n",
    "for k, v in red_usuarios.items():\n",
    "    for i in v: #seguidores de un k usuario\n",
    "        u = api.get_user(i) #se obtiene el usuario (seguidor).\n",
    "        list_seguidores.append(u) #nombre y cantidad de tweets del seguidor   ['statuses_count']\n",
    "    db_usuarios[k]= list_seguidores"
   ]
  },
  {
   "cell_type": "code",
   "execution_count": 24,
   "metadata": {},
   "outputs": [
    {
     "ename": "AttributeError",
     "evalue": "'str' object has no attribute 'dumps'",
     "output_type": "error",
     "traceback": [
      "\u001b[0;31m---------------------------------------------------------------------------\u001b[0m",
      "\u001b[0;31mAttributeError\u001b[0m                            Traceback (most recent call last)",
      "\u001b[0;32m<ipython-input-24-f666fd38b5c4>\u001b[0m in \u001b[0;36m<module>\u001b[0;34m()\u001b[0m\n\u001b[0;32m----> 1\u001b[0;31m \u001b[0mjson\u001b[0m \u001b[0;34m=\u001b[0m \u001b[0mjson\u001b[0m\u001b[0;34m.\u001b[0m\u001b[0mdumps\u001b[0m\u001b[0;34m(\u001b[0m\u001b[0mdb_usuarios\u001b[0m\u001b[0;34m)\u001b[0m\u001b[0;34m\u001b[0m\u001b[0m\n\u001b[0m\u001b[1;32m      2\u001b[0m \u001b[0mf\u001b[0m \u001b[0;34m=\u001b[0m \u001b[0mopen\u001b[0m\u001b[0;34m(\u001b[0m\u001b[0;34m\"db_total_usuarios_completo.json\"\u001b[0m\u001b[0;34m,\u001b[0m\u001b[0;34m\"w\"\u001b[0m\u001b[0;34m)\u001b[0m\u001b[0;34m\u001b[0m\u001b[0m\n\u001b[1;32m      3\u001b[0m \u001b[0mf\u001b[0m\u001b[0;34m.\u001b[0m\u001b[0mwrite\u001b[0m\u001b[0;34m(\u001b[0m\u001b[0mjson\u001b[0m\u001b[0;34m)\u001b[0m\u001b[0;34m\u001b[0m\u001b[0m\n\u001b[1;32m      4\u001b[0m \u001b[0mf\u001b[0m\u001b[0;34m.\u001b[0m\u001b[0mclose\u001b[0m\u001b[0;34m(\u001b[0m\u001b[0;34m)\u001b[0m\u001b[0;34m\u001b[0m\u001b[0m\n",
      "\u001b[0;31mAttributeError\u001b[0m: 'str' object has no attribute 'dumps'"
     ]
    }
   ],
   "source": [
    "json = json.dumps(db_usuarios)\n",
    "f = open(\"db_total_usuarios_completo.json\",\"w\")\n",
    "f.write(json)\n",
    "f.close()"
   ]
  },
  {
   "cell_type": "code",
   "execution_count": null,
   "metadata": {},
   "outputs": [],
   "source": []
  }
 ],
 "metadata": {
  "kernelspec": {
   "display_name": "Python 3",
   "language": "python",
   "name": "python3"
  },
  "language_info": {
   "codemirror_mode": {
    "name": "ipython",
    "version": 3
   },
   "file_extension": ".py",
   "mimetype": "text/x-python",
   "name": "python",
   "nbconvert_exporter": "python",
   "pygments_lexer": "ipython3",
   "version": "3.6.5"
  }
 },
 "nbformat": 4,
 "nbformat_minor": 2
}
