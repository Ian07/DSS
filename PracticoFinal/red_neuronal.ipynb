{
 "cells": [
  {
   "cell_type": "code",
   "execution_count": 178,
   "metadata": {},
   "outputs": [],
   "source": [
    "import pandas as pd\n",
    "import pydot\n",
    "import numpy as np\n",
    "import matplotlib.pyplot as plt\n",
    "import warnings\n",
    "warnings.filterwarnings('ignore')\n",
    "\n",
    "%matplotlib inline"
   ]
  },
  {
   "cell_type": "code",
   "execution_count": 179,
   "metadata": {},
   "outputs": [],
   "source": [
    "df_ratings = pd.read_csv(\"ml-latest-small/ratings.csv\",sep=\",\")"
   ]
  },
  {
   "cell_type": "code",
   "execution_count": 180,
   "metadata": {},
   "outputs": [
    {
     "data": {
      "text/html": [
       "<div>\n",
       "<style scoped>\n",
       "    .dataframe tbody tr th:only-of-type {\n",
       "        vertical-align: middle;\n",
       "    }\n",
       "\n",
       "    .dataframe tbody tr th {\n",
       "        vertical-align: top;\n",
       "    }\n",
       "\n",
       "    .dataframe thead th {\n",
       "        text-align: right;\n",
       "    }\n",
       "</style>\n",
       "<table border=\"1\" class=\"dataframe\">\n",
       "  <thead>\n",
       "    <tr style=\"text-align: right;\">\n",
       "      <th></th>\n",
       "      <th>userId</th>\n",
       "      <th>movieId</th>\n",
       "      <th>rating</th>\n",
       "      <th>timestamp</th>\n",
       "    </tr>\n",
       "  </thead>\n",
       "  <tbody>\n",
       "    <tr>\n",
       "      <th>0</th>\n",
       "      <td>1</td>\n",
       "      <td>1</td>\n",
       "      <td>4.0</td>\n",
       "      <td>964982703</td>\n",
       "    </tr>\n",
       "    <tr>\n",
       "      <th>1</th>\n",
       "      <td>1</td>\n",
       "      <td>3</td>\n",
       "      <td>4.0</td>\n",
       "      <td>964981247</td>\n",
       "    </tr>\n",
       "    <tr>\n",
       "      <th>2</th>\n",
       "      <td>1</td>\n",
       "      <td>6</td>\n",
       "      <td>4.0</td>\n",
       "      <td>964982224</td>\n",
       "    </tr>\n",
       "    <tr>\n",
       "      <th>3</th>\n",
       "      <td>1</td>\n",
       "      <td>47</td>\n",
       "      <td>5.0</td>\n",
       "      <td>964983815</td>\n",
       "    </tr>\n",
       "    <tr>\n",
       "      <th>4</th>\n",
       "      <td>1</td>\n",
       "      <td>50</td>\n",
       "      <td>5.0</td>\n",
       "      <td>964982931</td>\n",
       "    </tr>\n",
       "  </tbody>\n",
       "</table>\n",
       "</div>"
      ],
      "text/plain": [
       "   userId  movieId  rating  timestamp\n",
       "0       1        1     4.0  964982703\n",
       "1       1        3     4.0  964981247\n",
       "2       1        6     4.0  964982224\n",
       "3       1       47     5.0  964983815\n",
       "4       1       50     5.0  964982931"
      ]
     },
     "execution_count": 180,
     "metadata": {},
     "output_type": "execute_result"
    }
   ],
   "source": [
    "df_ratings.head()"
   ]
  },
  {
   "cell_type": "code",
   "execution_count": 181,
   "metadata": {},
   "outputs": [
    {
     "data": {
      "text/plain": [
       "(610, 9724)"
      ]
     },
     "execution_count": 181,
     "metadata": {},
     "output_type": "execute_result"
    }
   ],
   "source": [
    "len(df_ratings.userId.unique()), len(df_ratings.movieId.unique())"
   ]
  },
  {
   "cell_type": "code",
   "execution_count": 182,
   "metadata": {},
   "outputs": [],
   "source": [
    "df_ratings.userId = df_ratings.userId.astype('category').cat.codes.values\n",
    "df_ratings.movieId = df_ratings.movieId.astype('category').cat.codes.values"
   ]
  },
  {
   "cell_type": "code",
   "execution_count": 183,
   "metadata": {},
   "outputs": [
    {
     "data": {
      "text/html": [
       "<div>\n",
       "<style scoped>\n",
       "    .dataframe tbody tr th:only-of-type {\n",
       "        vertical-align: middle;\n",
       "    }\n",
       "\n",
       "    .dataframe tbody tr th {\n",
       "        vertical-align: top;\n",
       "    }\n",
       "\n",
       "    .dataframe thead th {\n",
       "        text-align: right;\n",
       "    }\n",
       "</style>\n",
       "<table border=\"1\" class=\"dataframe\">\n",
       "  <thead>\n",
       "    <tr style=\"text-align: right;\">\n",
       "      <th></th>\n",
       "      <th>userId</th>\n",
       "      <th>movieId</th>\n",
       "      <th>rating</th>\n",
       "      <th>timestamp</th>\n",
       "    </tr>\n",
       "  </thead>\n",
       "  <tbody>\n",
       "    <tr>\n",
       "      <th>0</th>\n",
       "      <td>0</td>\n",
       "      <td>0</td>\n",
       "      <td>4.0</td>\n",
       "      <td>964982703</td>\n",
       "    </tr>\n",
       "    <tr>\n",
       "      <th>1</th>\n",
       "      <td>0</td>\n",
       "      <td>2</td>\n",
       "      <td>4.0</td>\n",
       "      <td>964981247</td>\n",
       "    </tr>\n",
       "    <tr>\n",
       "      <th>2</th>\n",
       "      <td>0</td>\n",
       "      <td>5</td>\n",
       "      <td>4.0</td>\n",
       "      <td>964982224</td>\n",
       "    </tr>\n",
       "    <tr>\n",
       "      <th>3</th>\n",
       "      <td>0</td>\n",
       "      <td>43</td>\n",
       "      <td>5.0</td>\n",
       "      <td>964983815</td>\n",
       "    </tr>\n",
       "    <tr>\n",
       "      <th>4</th>\n",
       "      <td>0</td>\n",
       "      <td>46</td>\n",
       "      <td>5.0</td>\n",
       "      <td>964982931</td>\n",
       "    </tr>\n",
       "  </tbody>\n",
       "</table>\n",
       "</div>"
      ],
      "text/plain": [
       "   userId  movieId  rating  timestamp\n",
       "0       0        0     4.0  964982703\n",
       "1       0        2     4.0  964981247\n",
       "2       0        5     4.0  964982224\n",
       "3       0       43     5.0  964983815\n",
       "4       0       46     5.0  964982931"
      ]
     },
     "execution_count": 183,
     "metadata": {},
     "output_type": "execute_result"
    }
   ],
   "source": [
    "df_ratings.head()"
   ]
  },
  {
   "cell_type": "code",
   "execution_count": 184,
   "metadata": {},
   "outputs": [],
   "source": [
    "from sklearn.model_selection import train_test_split\n",
    "train, test = train_test_split(df_ratings, test_size=0.2)"
   ]
  },
  {
   "cell_type": "code",
   "execution_count": 185,
   "metadata": {},
   "outputs": [],
   "source": [
    "import keras\n",
    "from IPython.display import SVG\n",
    "from keras.optimizers import Adam\n",
    "from keras.utils.vis_utils import model_to_dot\n",
    "\n",
    "n_users, n_movies = len(df_ratings.userId.unique()), len(df_ratings.movieId.unique())\n",
    "n_latent_factors = 3"
   ]
  },
  {
   "cell_type": "code",
   "execution_count": 186,
   "metadata": {},
   "outputs": [],
   "source": [
    "movie_input = keras.layers.Input(shape=[1],name='Item')\n",
    "movie_embedding = keras.layers.Embedding(n_movies + 1, n_latent_factors, name='Movie-Embedding')(movie_input)\n",
    "movie_vec = keras.layers.Flatten(name='FlattenMovies')(movie_embedding)\n",
    "\n",
    "user_input = keras.layers.Input(shape=[1],name='User')\n",
    "user_vec = keras.layers.Flatten(name='FlattenUsers')(keras.layers.Embedding(n_users + 1, n_latent_factors,name='User-Embedding')(user_input))\n",
    "\n",
    "prod = keras.layers.dot([movie_vec, user_vec], axes=1, name='DotProduct')\n",
    "model = keras.Model([user_input, movie_input], prod)\n",
    "model.compile('adam', 'mean_squared_error', metrics=['accuracy'])\n",
    "\n"
   ]
  },
  {
   "cell_type": "code",
   "execution_count": 187,
   "metadata": {},
   "outputs": [],
   "source": [
    "#SVG(model_to_dot(model,  show_shapes=True, show_layer_names=True, rankdir='HB').create(prog='dot', format='svg'))"
   ]
  },
  {
   "cell_type": "code",
   "execution_count": 188,
   "metadata": {},
   "outputs": [
    {
     "name": "stdout",
     "output_type": "stream",
     "text": [
      "__________________________________________________________________________________________________\n",
      "Layer (type)                    Output Shape         Param #     Connected to                     \n",
      "==================================================================================================\n",
      "Item (InputLayer)               (None, 1)            0                                            \n",
      "__________________________________________________________________________________________________\n",
      "User (InputLayer)               (None, 1)            0                                            \n",
      "__________________________________________________________________________________________________\n",
      "Movie-Embedding (Embedding)     (None, 1, 3)         29175       Item[0][0]                       \n",
      "__________________________________________________________________________________________________\n",
      "User-Embedding (Embedding)      (None, 1, 3)         1833        User[0][0]                       \n",
      "__________________________________________________________________________________________________\n",
      "FlattenMovies (Flatten)         (None, 3)            0           Movie-Embedding[0][0]            \n",
      "__________________________________________________________________________________________________\n",
      "FlattenUsers (Flatten)          (None, 3)            0           User-Embedding[0][0]             \n",
      "__________________________________________________________________________________________________\n",
      "DotProduct (Dot)                (None, 1)            0           FlattenMovies[0][0]              \n",
      "                                                                 FlattenUsers[0][0]               \n",
      "==================================================================================================\n",
      "Total params: 31,008\n",
      "Trainable params: 31,008\n",
      "Non-trainable params: 0\n",
      "__________________________________________________________________________________________________\n"
     ]
    }
   ],
   "source": [
    "model.summary()"
   ]
  },
  {
   "cell_type": "code",
   "execution_count": 189,
   "metadata": {},
   "outputs": [
    {
     "name": "stdout",
     "output_type": "stream",
     "text": [
      "Train on 80668 samples, validate on 20168 samples\n",
      "Epoch 1/50\n",
      "80668/80668 [==============================] - 11s 130us/step - loss: 12.3551 - acc: 0.0014 - val_loss: 9.6905 - val_acc: 0.0099\n",
      "Epoch 2/50\n",
      "80668/80668 [==============================] - 8s 104us/step - loss: 6.5300 - acc: 0.0530 - val_loss: 4.6098 - val_acc: 0.0955\n",
      "Epoch 3/50\n",
      "80668/80668 [==============================] - 8s 94us/step - loss: 3.4482 - acc: 0.1364 - val_loss: 3.0433 - val_acc: 0.1650\n",
      "Epoch 4/50\n",
      "80668/80668 [==============================] - 11s 133us/step - loss: 2.3158 - acc: 0.1951 - val_loss: 2.3167 - val_acc: 0.2094\n",
      "Epoch 5/50\n",
      "80668/80668 [==============================] - 9s 116us/step - loss: 1.7395 - acc: 0.2401 - val_loss: 1.9235 - val_acc: 0.2419\n",
      "Epoch 6/50\n",
      "80668/80668 [==============================] - 10s 120us/step - loss: 1.4081 - acc: 0.2669 - val_loss: 1.6950 - val_acc: 0.2638\n",
      "Epoch 7/50\n",
      "80668/80668 [==============================] - 8s 98us/step - loss: 1.2020 - acc: 0.2862 - val_loss: 1.5526 - val_acc: 0.2765\n",
      "Epoch 8/50\n",
      "80668/80668 [==============================] - 9s 115us/step - loss: 1.0661 - acc: 0.3001 - val_loss: 1.4584 - val_acc: 0.2881\n",
      "Epoch 9/50\n",
      "80668/80668 [==============================] - 10s 118us/step - loss: 0.9720 - acc: 0.3083 - val_loss: 1.3948 - val_acc: 0.2931\n",
      "Epoch 10/50\n",
      "80668/80668 [==============================] - 10s 124us/step - loss: 0.9043 - acc: 0.3144 - val_loss: 1.3481 - val_acc: 0.2985\n",
      "Epoch 11/50\n",
      "80668/80668 [==============================] - 10s 128us/step - loss: 0.8538 - acc: 0.3204 - val_loss: 1.3158 - val_acc: 0.3010\n",
      "Epoch 12/50\n",
      "80668/80668 [==============================] - 10s 127us/step - loss: 0.8143 - acc: 0.3241 - val_loss: 1.2920 - val_acc: 0.3015\n",
      "Epoch 13/50\n",
      "80668/80668 [==============================] - 5s 67us/step - loss: 0.7830 - acc: 0.3268 - val_loss: 1.2741 - val_acc: 0.3056\n",
      "Epoch 14/50\n",
      "80668/80668 [==============================] - 6s 72us/step - loss: 0.7578 - acc: 0.3308 - val_loss: 1.2610 - val_acc: 0.3061\n",
      "Epoch 15/50\n",
      "80668/80668 [==============================] - 9s 109us/step - loss: 0.7370 - acc: 0.3314 - val_loss: 1.2492 - val_acc: 0.3083\n",
      "Epoch 16/50\n",
      "80668/80668 [==============================] - 5s 60us/step - loss: 0.7194 - acc: 0.3345 - val_loss: 1.2416 - val_acc: 0.3070\n",
      "Epoch 17/50\n",
      "80668/80668 [==============================] - 10s 123us/step - loss: 0.7055 - acc: 0.3357 - val_loss: 1.2344 - val_acc: 0.3088\n",
      "Epoch 18/50\n",
      "80668/80668 [==============================] - 8s 98us/step - loss: 0.6935 - acc: 0.3378 - val_loss: 1.2305 - val_acc: 0.3085\n",
      "Epoch 19/50\n",
      "80668/80668 [==============================] - 9s 113us/step - loss: 0.6830 - acc: 0.3384 - val_loss: 1.2264 - val_acc: 0.3086\n",
      "Epoch 20/50\n",
      "80668/80668 [==============================] - 5s 61us/step - loss: 0.6742 - acc: 0.3410 - val_loss: 1.2266 - val_acc: 0.3094\n",
      "Epoch 21/50\n",
      "80668/80668 [==============================] - 6s 80us/step - loss: 0.6672 - acc: 0.3430 - val_loss: 1.2236 - val_acc: 0.3108\n",
      "Epoch 22/50\n",
      "80668/80668 [==============================] - 7s 82us/step - loss: 0.6611 - acc: 0.3454 - val_loss: 1.2221 - val_acc: 0.3114\n",
      "Epoch 23/50\n",
      "80668/80668 [==============================] - 9s 112us/step - loss: 0.6558 - acc: 0.3482 - val_loss: 1.2231 - val_acc: 0.3118\n",
      "Epoch 24/50\n",
      "80668/80668 [==============================] - 7s 86us/step - loss: 0.6518 - acc: 0.3485 - val_loss: 1.2241 - val_acc: 0.3109\n",
      "Epoch 25/50\n",
      "80668/80668 [==============================] - 9s 116us/step - loss: 0.6480 - acc: 0.3504 - val_loss: 1.2231 - val_acc: 0.3103\n",
      "Epoch 26/50\n",
      "80668/80668 [==============================] - 6s 79us/step - loss: 0.6444 - acc: 0.3511 - val_loss: 1.2247 - val_acc: 0.3098\n",
      "Epoch 27/50\n",
      "80668/80668 [==============================] - 9s 109us/step - loss: 0.6405 - acc: 0.3529 - val_loss: 1.2256 - val_acc: 0.3116\n",
      "Epoch 28/50\n",
      "80668/80668 [==============================] - 6s 75us/step - loss: 0.6374 - acc: 0.3541 - val_loss: 1.2255 - val_acc: 0.3114\n",
      "Epoch 29/50\n",
      "80668/80668 [==============================] - 6s 78us/step - loss: 0.6339 - acc: 0.3541 - val_loss: 1.2260 - val_acc: 0.3116\n",
      "Epoch 30/50\n",
      "80668/80668 [==============================] - 9s 110us/step - loss: 0.6298 - acc: 0.3567 - val_loss: 1.2262 - val_acc: 0.3118\n",
      "Epoch 31/50\n",
      "80668/80668 [==============================] - 7s 82us/step - loss: 0.6261 - acc: 0.3574 - val_loss: 1.2256 - val_acc: 0.3120\n",
      "Epoch 32/50\n",
      "80668/80668 [==============================] - 9s 115us/step - loss: 0.6217 - acc: 0.3583 - val_loss: 1.2268 - val_acc: 0.3105\n",
      "Epoch 33/50\n",
      "80668/80668 [==============================] - 6s 76us/step - loss: 0.6175 - acc: 0.3600 - val_loss: 1.2279 - val_acc: 0.3107\n",
      "Epoch 34/50\n",
      "80668/80668 [==============================] - 7s 81us/step - loss: 0.6125 - acc: 0.3615 - val_loss: 1.2270 - val_acc: 0.3109\n",
      "Epoch 35/50\n",
      "80668/80668 [==============================] - 9s 112us/step - loss: 0.6082 - acc: 0.3630 - val_loss: 1.2291 - val_acc: 0.3096\n",
      "Epoch 36/50\n",
      "80668/80668 [==============================] - 6s 72us/step - loss: 0.6040 - acc: 0.3665 - val_loss: 1.2291 - val_acc: 0.3113\n",
      "Epoch 37/50\n",
      "80668/80668 [==============================] - 9s 111us/step - loss: 0.5996 - acc: 0.3664 - val_loss: 1.2306 - val_acc: 0.3117\n",
      "Epoch 38/50\n",
      "80668/80668 [==============================] - 6s 72us/step - loss: 0.5952 - acc: 0.3691 - val_loss: 1.2324 - val_acc: 0.3115\n",
      "Epoch 39/50\n",
      "80668/80668 [==============================] - 9s 113us/step - loss: 0.5911 - acc: 0.3707 - val_loss: 1.2358 - val_acc: 0.3090\n",
      "Epoch 40/50\n",
      "80668/80668 [==============================] - 6s 70us/step - loss: 0.5873 - acc: 0.3719 - val_loss: 1.2357 - val_acc: 0.3088\n",
      "Epoch 41/50\n",
      "80668/80668 [==============================] - 9s 110us/step - loss: 0.5837 - acc: 0.3730 - val_loss: 1.2377 - val_acc: 0.3083\n",
      "Epoch 42/50\n",
      "80668/80668 [==============================] - 8s 101us/step - loss: 0.5799 - acc: 0.3736 - val_loss: 1.2397 - val_acc: 0.3082\n",
      "Epoch 43/50\n",
      "80668/80668 [==============================] - 9s 110us/step - loss: 0.5771 - acc: 0.3756 - val_loss: 1.2439 - val_acc: 0.3082\n",
      "Epoch 44/50\n",
      "80668/80668 [==============================] - 8s 104us/step - loss: 0.5738 - acc: 0.3767 - val_loss: 1.2455 - val_acc: 0.3071\n",
      "Epoch 45/50\n",
      "80668/80668 [==============================] - 5s 63us/step - loss: 0.5709 - acc: 0.3779 - val_loss: 1.2474 - val_acc: 0.3083\n",
      "Epoch 46/50\n",
      "80668/80668 [==============================] - 5s 56us/step - loss: 0.5678 - acc: 0.3793 - val_loss: 1.2487 - val_acc: 0.3072\n",
      "Epoch 47/50\n",
      "80668/80668 [==============================] - 5s 62us/step - loss: 0.5655 - acc: 0.3788 - val_loss: 1.2513 - val_acc: 0.3060\n",
      "Epoch 48/50\n",
      "80668/80668 [==============================] - 8s 93us/step - loss: 0.5631 - acc: 0.3811 - val_loss: 1.2519 - val_acc: 0.3054\n",
      "Epoch 49/50\n",
      "80668/80668 [==============================] - 5s 64us/step - loss: 0.5607 - acc: 0.3807 - val_loss: 1.2545 - val_acc: 0.3058\n",
      "Epoch 50/50\n",
      "80668/80668 [==============================] - 11s 138us/step - loss: 0.5586 - acc: 0.3816 - val_loss: 1.2549 - val_acc: 0.3061\n"
     ]
    }
   ],
   "source": [
    "#factorizacion\n",
    "history = model.fit([train.userId, train.movieId], train.rating,validation_data=([test.userId, test.movieId], test.rating), epochs=50, verbose=1)"
   ]
  },
  {
   "cell_type": "code",
   "execution_count": 190,
   "metadata": {},
   "outputs": [
    {
     "data": {
      "text/plain": [
       "Text(0,0.5,'Train Error')"
      ]
     },
     "execution_count": 190,
     "metadata": {},
     "output_type": "execute_result"
    },
    {
     "data": {
      "image/png": "[encoded data removed]",
      "text/plain": [
       "<Figure size 432x288 with 1 Axes>"
      ]
     },
     "metadata": {
      "needs_background": "light"
     },
     "output_type": "display_data"
    }
   ],
   "source": [
    "pd.Series(history.history['loss']).plot(logy=True)\n",
    "pd.Series(history.history['val_loss']).plot(logy=True)\n",
    "plt.xlabel(\"Epoch\")\n",
    "plt.ylabel(\"Train Error\")"
   ]
  },
  {
   "cell_type": "code",
   "execution_count": 191,
   "metadata": {},
   "outputs": [
    {
     "data": {
      "text/plain": [
       "Text(0,0.5,'Train Error')"
      ]
     },
     "execution_count": 191,
     "metadata": {},
     "output_type": "execute_result"
    },
    {
     "data": {
      "image/png": "[encoded data removed]",
      "text/plain": [
       "<Figure size 432x288 with 1 Axes>"
      ]
     },
     "metadata": {
      "needs_background": "light"
     },
     "output_type": "display_data"
    }
   ],
   "source": [
    "pd.Series(history.history['acc']).plot(logy=True)\n",
    "pd.Series(history.history['val_acc']).plot(logy=True)\n",
    "plt.xlabel(\"Epoch\")\n",
    "plt.ylabel(\"Train Error\")"
   ]
  },
  {
   "cell_type": "code",
   "execution_count": 192,
   "metadata": {},
   "outputs": [
    {
     "name": "stdout",
     "output_type": "stream",
     "text": [
      "54529     4.0\n",
      "32569     4.5\n",
      "75504     4.0\n",
      "12008     3.5\n",
      "18186     5.0\n",
      "2515      2.0\n",
      "22045     2.5\n",
      "85884     4.0\n",
      "42149     2.0\n",
      "79773     2.5\n",
      "1730      5.0\n",
      "52933     5.0\n",
      "51650     3.0\n",
      "59805     3.0\n",
      "7331      1.0\n",
      "64219     4.5\n",
      "19825     4.0\n",
      "56563     4.0\n",
      "60374     3.5\n",
      "41544     4.5\n",
      "43598     1.5\n",
      "90286     5.0\n",
      "5302      3.5\n",
      "46728     3.5\n",
      "59715     1.5\n",
      "80425     3.0\n",
      "54567     3.5\n",
      "85220     5.0\n",
      "84690     5.0\n",
      "65460     4.5\n",
      "         ... \n",
      "40010     3.0\n",
      "95520     4.0\n",
      "51619     2.5\n",
      "47125     1.5\n",
      "99133     4.0\n",
      "14837     3.0\n",
      "1411      4.0\n",
      "66246     3.5\n",
      "21752     3.5\n",
      "82047     5.0\n",
      "94380     2.0\n",
      "100217    5.0\n",
      "25400     5.0\n",
      "42563     1.0\n",
      "58332     3.0\n",
      "49296     3.5\n",
      "35050     3.0\n",
      "40776     4.0\n",
      "41128     4.0\n",
      "60619     5.0\n",
      "89338     5.0\n",
      "95887     4.5\n",
      "43264     4.0\n",
      "73150     3.5\n",
      "53912     4.0\n",
      "78368     1.5\n",
      "60804     5.0\n",
      "94038     2.5\n",
      "83082     4.5\n",
      "60227     2.5\n",
      "Name: rating, Length: 20168, dtype: float64\n"
     ]
    }
   ],
   "source": [
    "y_hat = np.round(model.predict([test.userId, test.movieId]),0)\n",
    "y_true = test.rating\n",
    "print(y_true)"
   ]
  },
  {
   "cell_type": "code",
   "execution_count": 193,
   "metadata": {},
   "outputs": [
    {
     "data": {
      "text/plain": [
       "0.7883528361761206"
      ]
     },
     "execution_count": 193,
     "metadata": {},
     "output_type": "execute_result"
    }
   ],
   "source": [
    "#googlear\n",
    "from sklearn.metrics import mean_absolute_error\n",
    "mean_absolute_error(y_true, y_hat)\n"
   ]
  },
  {
   "cell_type": "code",
   "execution_count": 194,
   "metadata": {},
   "outputs": [
    {
     "data": {
      "text/html": [
       "<div>\n",
       "<style scoped>\n",
       "    .dataframe tbody tr th:only-of-type {\n",
       "        vertical-align: middle;\n",
       "    }\n",
       "\n",
       "    .dataframe tbody tr th {\n",
       "        vertical-align: top;\n",
       "    }\n",
       "\n",
       "    .dataframe thead th {\n",
       "        text-align: right;\n",
       "    }\n",
       "</style>\n",
       "<table border=\"1\" class=\"dataframe\">\n",
       "  <thead>\n",
       "    <tr style=\"text-align: right;\">\n",
       "      <th></th>\n",
       "      <th>0</th>\n",
       "      <th>1</th>\n",
       "      <th>2</th>\n",
       "    </tr>\n",
       "  </thead>\n",
       "  <tbody>\n",
       "    <tr>\n",
       "      <th>count</th>\n",
       "      <td>9725.000000</td>\n",
       "      <td>9725.000000</td>\n",
       "      <td>9725.000000</td>\n",
       "    </tr>\n",
       "    <tr>\n",
       "      <th>mean</th>\n",
       "      <td>-0.571247</td>\n",
       "      <td>-0.561050</td>\n",
       "      <td>0.571998</td>\n",
       "    </tr>\n",
       "    <tr>\n",
       "      <th>std</th>\n",
       "      <td>0.263120</td>\n",
       "      <td>0.259713</td>\n",
       "      <td>0.262995</td>\n",
       "    </tr>\n",
       "    <tr>\n",
       "      <th>min</th>\n",
       "      <td>-1.436383</td>\n",
       "      <td>-1.504458</td>\n",
       "      <td>-0.896513</td>\n",
       "    </tr>\n",
       "    <tr>\n",
       "      <th>25%</th>\n",
       "      <td>-0.748590</td>\n",
       "      <td>-0.737940</td>\n",
       "      <td>0.444429</td>\n",
       "    </tr>\n",
       "    <tr>\n",
       "      <th>50%</th>\n",
       "      <td>-0.616668</td>\n",
       "      <td>-0.603640</td>\n",
       "      <td>0.609368</td>\n",
       "    </tr>\n",
       "    <tr>\n",
       "      <th>75%</th>\n",
       "      <td>-0.437136</td>\n",
       "      <td>-0.419944</td>\n",
       "      <td>0.743722</td>\n",
       "    </tr>\n",
       "    <tr>\n",
       "      <th>max</th>\n",
       "      <td>0.390332</td>\n",
       "      <td>0.393512</td>\n",
       "      <td>1.703112</td>\n",
       "    </tr>\n",
       "  </tbody>\n",
       "</table>\n",
       "</div>"
      ],
      "text/plain": [
       "                 0            1            2\n",
       "count  9725.000000  9725.000000  9725.000000\n",
       "mean     -0.571247    -0.561050     0.571998\n",
       "std       0.263120     0.259713     0.262995\n",
       "min      -1.436383    -1.504458    -0.896513\n",
       "25%      -0.748590    -0.737940     0.444429\n",
       "50%      -0.616668    -0.603640     0.609368\n",
       "75%      -0.437136    -0.419944     0.743722\n",
       "max       0.390332     0.393512     1.703112"
      ]
     },
     "execution_count": 194,
     "metadata": {},
     "output_type": "execute_result"
    }
   ],
   "source": [
    "movie_embedding_learnt = model.get_layer(name='Movie-Embedding').get_weights()[0]\n",
    "pd.DataFrame(movie_embedding_learnt).describe()"
   ]
  },
  {
   "cell_type": "code",
   "execution_count": 195,
   "metadata": {},
   "outputs": [
    {
     "data": {
      "text/html": [
       "<div>\n",
       "<style scoped>\n",
       "    .dataframe tbody tr th:only-of-type {\n",
       "        vertical-align: middle;\n",
       "    }\n",
       "\n",
       "    .dataframe tbody tr th {\n",
       "        vertical-align: top;\n",
       "    }\n",
       "\n",
       "    .dataframe thead th {\n",
       "        text-align: right;\n",
       "    }\n",
       "</style>\n",
       "<table border=\"1\" class=\"dataframe\">\n",
       "  <thead>\n",
       "    <tr style=\"text-align: right;\">\n",
       "      <th></th>\n",
       "      <th>0</th>\n",
       "      <th>1</th>\n",
       "      <th>2</th>\n",
       "    </tr>\n",
       "  </thead>\n",
       "  <tbody>\n",
       "    <tr>\n",
       "      <th>count</th>\n",
       "      <td>611.000000</td>\n",
       "      <td>611.000000</td>\n",
       "      <td>611.000000</td>\n",
       "    </tr>\n",
       "    <tr>\n",
       "      <th>mean</th>\n",
       "      <td>-1.847424</td>\n",
       "      <td>-1.853732</td>\n",
       "      <td>1.857717</td>\n",
       "    </tr>\n",
       "    <tr>\n",
       "      <th>std</th>\n",
       "      <td>0.466589</td>\n",
       "      <td>0.454536</td>\n",
       "      <td>0.546069</td>\n",
       "    </tr>\n",
       "    <tr>\n",
       "      <th>min</th>\n",
       "      <td>-3.728643</td>\n",
       "      <td>-3.464292</td>\n",
       "      <td>-1.281222</td>\n",
       "    </tr>\n",
       "    <tr>\n",
       "      <th>25%</th>\n",
       "      <td>-2.140224</td>\n",
       "      <td>-2.117831</td>\n",
       "      <td>1.592501</td>\n",
       "    </tr>\n",
       "    <tr>\n",
       "      <th>50%</th>\n",
       "      <td>-1.880313</td>\n",
       "      <td>-1.859993</td>\n",
       "      <td>1.893221</td>\n",
       "    </tr>\n",
       "    <tr>\n",
       "      <th>75%</th>\n",
       "      <td>-1.588912</td>\n",
       "      <td>-1.627387</td>\n",
       "      <td>2.184463</td>\n",
       "    </tr>\n",
       "    <tr>\n",
       "      <th>max</th>\n",
       "      <td>0.307325</td>\n",
       "      <td>1.089305</td>\n",
       "      <td>3.338473</td>\n",
       "    </tr>\n",
       "  </tbody>\n",
       "</table>\n",
       "</div>"
      ],
      "text/plain": [
       "                0           1           2\n",
       "count  611.000000  611.000000  611.000000\n",
       "mean    -1.847424   -1.853732    1.857717\n",
       "std      0.466589    0.454536    0.546069\n",
       "min     -3.728643   -3.464292   -1.281222\n",
       "25%     -2.140224   -2.117831    1.592501\n",
       "50%     -1.880313   -1.859993    1.893221\n",
       "75%     -1.588912   -1.627387    2.184463\n",
       "max      0.307325    1.089305    3.338473"
      ]
     },
     "execution_count": 195,
     "metadata": {},
     "output_type": "execute_result"
    }
   ],
   "source": [
    "user_embedding_learnt = model.get_layer(name='User-Embedding').get_weights()[0]\n",
    "pd.DataFrame(user_embedding_learnt).describe()"
   ]
  },
  {
   "cell_type": "code",
   "execution_count": 196,
   "metadata": {},
   "outputs": [],
   "source": [
    "from keras.constraints import non_neg\n",
    "movie_input = keras.layers.Input(shape=[1],name='Item')\n",
    "movie_embedding = keras.layers.Embedding(n_movies + 1, n_latent_factors, name='NonNegMovie-Embedding', embeddings_constraint=non_neg())(movie_input)\n",
    "movie_vec = keras.layers.Flatten(name='FlattenMovies')(movie_embedding)\n",
    "\n",
    "user_input = keras.layers.Input(shape=[1],name='User')\n",
    "user_vec = keras.layers.Flatten(name='FlattenUsers')(keras.layers.Embedding(n_users + 1, n_latent_factors,name='NonNegUser-Embedding',embeddings_constraint=non_neg())(user_input))\n",
    "\n",
    "prod = keras.layers.dot([movie_vec, user_vec], axes=1, name='DotProduct')\n",
    "model = keras.Model([user_input, movie_input], prod)\n",
    "model.compile('adam', 'mean_squared_error')"
   ]
  },
  {
   "cell_type": "code",
   "execution_count": 197,
   "metadata": {},
   "outputs": [
    {
     "name": "stdout",
     "output_type": "stream",
     "text": [
      "Train on 80668 samples, validate on 20168 samples\n",
      "Epoch 1/10\n",
      "80668/80668 [==============================] - 13s 161us/step - loss: 11.3506 - val_loss: 8.1870\n",
      "Epoch 2/10\n",
      "80668/80668 [==============================] - 9s 107us/step - loss: 5.5676 - val_loss: 4.1392\n",
      "Epoch 3/10\n",
      "80668/80668 [==============================] - 11s 132us/step - loss: 3.1104 - val_loss: 2.8087\n",
      "Epoch 4/10\n",
      "80668/80668 [==============================] - 6s 73us/step - loss: 2.1306 - val_loss: 2.1688\n",
      "Epoch 5/10\n",
      "80668/80668 [==============================] - 5s 62us/step - loss: 1.6213 - val_loss: 1.8215\n",
      "Epoch 6/10\n",
      "80668/80668 [==============================] - 5s 67us/step - loss: 1.3272 - val_loss: 1.6191\n",
      "Epoch 7/10\n",
      "80668/80668 [==============================] - 5s 67us/step - loss: 1.1426 - val_loss: 1.4895\n",
      "Epoch 8/10\n",
      "80668/80668 [==============================] - 6s 71us/step - loss: 1.0208 - val_loss: 1.4068\n",
      "Epoch 9/10\n",
      "80668/80668 [==============================] - 6s 77us/step - loss: 0.9364 - val_loss: 1.3493\n",
      "Epoch 10/10\n",
      "80668/80668 [==============================] - 5s 59us/step - loss: 0.8755 - val_loss: 1.3090\n"
     ]
    }
   ],
   "source": [
    "#otro modelo\n",
    "history_nonneg = model.fit([train.userId, train.movieId], train.rating,validation_data=([test.userId, test.movieId], test.rating), epochs=10, verbose=1)\n"
   ]
  },
  {
   "cell_type": "code",
   "execution_count": 198,
   "metadata": {},
   "outputs": [
    {
     "data": {
      "text/html": [
       "<div>\n",
       "<style scoped>\n",
       "    .dataframe tbody tr th:only-of-type {\n",
       "        vertical-align: middle;\n",
       "    }\n",
       "\n",
       "    .dataframe tbody tr th {\n",
       "        vertical-align: top;\n",
       "    }\n",
       "\n",
       "    .dataframe thead th {\n",
       "        text-align: right;\n",
       "    }\n",
       "</style>\n",
       "<table border=\"1\" class=\"dataframe\">\n",
       "  <thead>\n",
       "    <tr style=\"text-align: right;\">\n",
       "      <th></th>\n",
       "      <th>0</th>\n",
       "      <th>1</th>\n",
       "      <th>2</th>\n",
       "    </tr>\n",
       "  </thead>\n",
       "  <tbody>\n",
       "    <tr>\n",
       "      <th>count</th>\n",
       "      <td>9725.000000</td>\n",
       "      <td>9725.000000</td>\n",
       "      <td>9725.000000</td>\n",
       "    </tr>\n",
       "    <tr>\n",
       "      <th>mean</th>\n",
       "      <td>0.430870</td>\n",
       "      <td>0.431119</td>\n",
       "      <td>0.430995</td>\n",
       "    </tr>\n",
       "    <tr>\n",
       "      <th>std</th>\n",
       "      <td>0.201181</td>\n",
       "      <td>0.201636</td>\n",
       "      <td>0.201595</td>\n",
       "    </tr>\n",
       "    <tr>\n",
       "      <th>min</th>\n",
       "      <td>-0.000000</td>\n",
       "      <td>-0.000000</td>\n",
       "      <td>-0.000000</td>\n",
       "    </tr>\n",
       "    <tr>\n",
       "      <th>25%</th>\n",
       "      <td>0.296462</td>\n",
       "      <td>0.296425</td>\n",
       "      <td>0.296495</td>\n",
       "    </tr>\n",
       "    <tr>\n",
       "      <th>50%</th>\n",
       "      <td>0.439517</td>\n",
       "      <td>0.439288</td>\n",
       "      <td>0.439460</td>\n",
       "    </tr>\n",
       "    <tr>\n",
       "      <th>75%</th>\n",
       "      <td>0.601672</td>\n",
       "      <td>0.603495</td>\n",
       "      <td>0.602872</td>\n",
       "    </tr>\n",
       "    <tr>\n",
       "      <th>max</th>\n",
       "      <td>0.883100</td>\n",
       "      <td>0.879899</td>\n",
       "      <td>0.862419</td>\n",
       "    </tr>\n",
       "  </tbody>\n",
       "</table>\n",
       "</div>"
      ],
      "text/plain": [
       "                 0            1            2\n",
       "count  9725.000000  9725.000000  9725.000000\n",
       "mean      0.430870     0.431119     0.430995\n",
       "std       0.201181     0.201636     0.201595\n",
       "min      -0.000000    -0.000000    -0.000000\n",
       "25%       0.296462     0.296425     0.296495\n",
       "50%       0.439517     0.439288     0.439460\n",
       "75%       0.601672     0.603495     0.602872\n",
       "max       0.883100     0.879899     0.862419"
      ]
     },
     "execution_count": 198,
     "metadata": {},
     "output_type": "execute_result"
    }
   ],
   "source": [
    "movie_embedding_learnt = model.get_layer(name='NonNegMovie-Embedding').get_weights()[0]\n",
    "pd.DataFrame(movie_embedding_learnt).describe()\n"
   ]
  },
  {
   "cell_type": "code",
   "execution_count": 199,
   "metadata": {},
   "outputs": [
    {
     "data": {
      "text/html": [
       "<div>\n",
       "<style scoped>\n",
       "    .dataframe tbody tr th:only-of-type {\n",
       "        vertical-align: middle;\n",
       "    }\n",
       "\n",
       "    .dataframe tbody tr th {\n",
       "        vertical-align: top;\n",
       "    }\n",
       "\n",
       "    .dataframe thead th {\n",
       "        text-align: right;\n",
       "    }\n",
       "</style>\n",
       "<table border=\"1\" class=\"dataframe\">\n",
       "  <thead>\n",
       "    <tr style=\"text-align: right;\">\n",
       "      <th></th>\n",
       "      <th>0</th>\n",
       "      <th>1</th>\n",
       "      <th>2</th>\n",
       "    </tr>\n",
       "  </thead>\n",
       "  <tbody>\n",
       "    <tr>\n",
       "      <th>count</th>\n",
       "      <td>9725.000000</td>\n",
       "      <td>9725.000000</td>\n",
       "      <td>9725.000000</td>\n",
       "    </tr>\n",
       "    <tr>\n",
       "      <th>mean</th>\n",
       "      <td>0.430870</td>\n",
       "      <td>0.431119</td>\n",
       "      <td>0.430995</td>\n",
       "    </tr>\n",
       "    <tr>\n",
       "      <th>std</th>\n",
       "      <td>0.201181</td>\n",
       "      <td>0.201636</td>\n",
       "      <td>0.201595</td>\n",
       "    </tr>\n",
       "    <tr>\n",
       "      <th>min</th>\n",
       "      <td>-0.000000</td>\n",
       "      <td>-0.000000</td>\n",
       "      <td>-0.000000</td>\n",
       "    </tr>\n",
       "    <tr>\n",
       "      <th>25%</th>\n",
       "      <td>0.296462</td>\n",
       "      <td>0.296425</td>\n",
       "      <td>0.296495</td>\n",
       "    </tr>\n",
       "    <tr>\n",
       "      <th>50%</th>\n",
       "      <td>0.439517</td>\n",
       "      <td>0.439288</td>\n",
       "      <td>0.439460</td>\n",
       "    </tr>\n",
       "    <tr>\n",
       "      <th>75%</th>\n",
       "      <td>0.601672</td>\n",
       "      <td>0.603495</td>\n",
       "      <td>0.602872</td>\n",
       "    </tr>\n",
       "    <tr>\n",
       "      <th>max</th>\n",
       "      <td>0.883100</td>\n",
       "      <td>0.879899</td>\n",
       "      <td>0.862419</td>\n",
       "    </tr>\n",
       "  </tbody>\n",
       "</table>\n",
       "</div>"
      ],
      "text/plain": [
       "                 0            1            2\n",
       "count  9725.000000  9725.000000  9725.000000\n",
       "mean      0.430870     0.431119     0.430995\n",
       "std       0.201181     0.201636     0.201595\n",
       "min      -0.000000    -0.000000    -0.000000\n",
       "25%       0.296462     0.296425     0.296495\n",
       "50%       0.439517     0.439288     0.439460\n",
       "75%       0.601672     0.603495     0.602872\n",
       "max       0.883100     0.879899     0.862419"
      ]
     },
     "execution_count": 199,
     "metadata": {},
     "output_type": "execute_result"
    }
   ],
   "source": [
    "movie_embedding_learnt = model.get_layer(name='NonNegMovie-Embedding').get_weights()[0]\n",
    "pd.DataFrame(movie_embedding_learnt).describe()"
   ]
  },
  {
   "cell_type": "code",
   "execution_count": 200,
   "metadata": {},
   "outputs": [],
   "source": [
    "n_latent_factors_user = 5\n",
    "n_latent_factors_movie = 8\n",
    "\n",
    "movie_input = keras.layers.Input(shape=[1],name='Item')\n",
    "movie_embedding = keras.layers.Embedding(n_movies + 1, n_latent_factors_movie, name='Movie-Embedding')(movie_input)\n",
    "movie_vec = keras.layers.Flatten(name='FlattenMovies')(movie_embedding)\n",
    "movie_vec = keras.layers.Dropout(0.2)(movie_vec)\n",
    "\n",
    "\n",
    "user_input = keras.layers.Input(shape=[1],name='User')\n",
    "user_vec = keras.layers.Flatten(name='FlattenUsers')(keras.layers.Embedding(n_users + 1, n_latent_factors_user,name='User-Embedding')(user_input))\n",
    "user_vec = keras.layers.Dropout(0.2)(user_vec)\n",
    "\n",
    "\n",
    "\n",
    "concat = keras.layers.concatenate([movie_vec, user_vec], name='Concat')\n",
    "concat_dropout = keras.layers.Dropout(0.2)(concat)\n",
    "dense = keras.layers.Dense(200,name='FullyConnected')(concat)\n",
    "dropout_1 = keras.layers.Dropout(0.2,name='Dropout')(dense)\n",
    "dense_2 = keras.layers.Dense(100,name='FullyConnected-1')(concat)\n",
    "dropout_2 = keras.layers.Dropout(0.2,name='Dropout')(dense_2)\n",
    "dense_3 = keras.layers.Dense(50,name='FullyConnected-2')(dense_2)\n",
    "dropout_3 = keras.layers.Dropout(0.2,name='Dropout')(dense_3)\n",
    "dense_4 = keras.layers.Dense(20,name='FullyConnected-3', activation='relu')(dense_3)\n",
    "\n",
    "\n",
    "result = keras.layers.Dense(1, activation='relu',name='Activation')(dense_4)\n",
    "adam = Adam(lr=0.005)\n",
    "model = keras.Model([user_input, movie_input], result)\n",
    "model.compile(optimizer=adam,loss= 'mean_absolute_error', metrics=['accuracy'])\n"
   ]
  },
  {
   "cell_type": "code",
   "execution_count": 201,
   "metadata": {},
   "outputs": [],
   "source": [
    "#SVG(model_to_dot(model,  show_shapes=True, show_layer_names=True, rankdir='HB').create(prog='dot', format='svg'))\n"
   ]
  },
  {
   "cell_type": "code",
   "execution_count": null,
   "metadata": {},
   "outputs": [],
   "source": []
  },
  {
   "cell_type": "code",
   "execution_count": 202,
   "metadata": {},
   "outputs": [
    {
     "name": "stdout",
     "output_type": "stream",
     "text": [
      "__________________________________________________________________________________________________\n",
      "Layer (type)                    Output Shape         Param #     Connected to                     \n",
      "==================================================================================================\n",
      "Item (InputLayer)               (None, 1)            0                                            \n",
      "__________________________________________________________________________________________________\n",
      "User (InputLayer)               (None, 1)            0                                            \n",
      "__________________________________________________________________________________________________\n",
      "Movie-Embedding (Embedding)     (None, 1, 8)         77800       Item[0][0]                       \n",
      "__________________________________________________________________________________________________\n",
      "User-Embedding (Embedding)      (None, 1, 5)         3055        User[0][0]                       \n",
      "__________________________________________________________________________________________________\n",
      "FlattenMovies (Flatten)         (None, 8)            0           Movie-Embedding[0][0]            \n",
      "__________________________________________________________________________________________________\n",
      "FlattenUsers (Flatten)          (None, 5)            0           User-Embedding[0][0]             \n",
      "__________________________________________________________________________________________________\n",
      "dropout_16 (Dropout)            (None, 8)            0           FlattenMovies[0][0]              \n",
      "__________________________________________________________________________________________________\n",
      "dropout_17 (Dropout)            (None, 5)            0           FlattenUsers[0][0]               \n",
      "__________________________________________________________________________________________________\n",
      "Concat (Concatenate)            (None, 13)           0           dropout_16[0][0]                 \n",
      "                                                                 dropout_17[0][0]                 \n",
      "__________________________________________________________________________________________________\n",
      "FullyConnected-1 (Dense)        (None, 100)          1400        Concat[0][0]                     \n",
      "__________________________________________________________________________________________________\n",
      "FullyConnected-2 (Dense)        (None, 50)           5050        FullyConnected-1[0][0]           \n",
      "__________________________________________________________________________________________________\n",
      "FullyConnected-3 (Dense)        (None, 20)           1020        FullyConnected-2[0][0]           \n",
      "__________________________________________________________________________________________________\n",
      "Activation (Dense)              (None, 1)            21          FullyConnected-3[0][0]           \n",
      "==================================================================================================\n",
      "Total params: 88,346\n",
      "Trainable params: 88,346\n",
      "Non-trainable params: 0\n",
      "__________________________________________________________________________________________________\n"
     ]
    }
   ],
   "source": [
    "model.summary()"
   ]
  },
  {
   "cell_type": "code",
   "execution_count": 203,
   "metadata": {},
   "outputs": [
    {
     "name": "stdout",
     "output_type": "stream",
     "text": [
      "Train on 80668 samples, validate on 20168 samples\n",
      "Epoch 1/50\n",
      "80668/80668 [==============================] - 16s 192us/step - loss: 0.7372 - acc: 0.2962 - val_loss: 0.7495 - val_acc: 0.2663\n",
      "Epoch 2/50\n",
      "80668/80668 [==============================] - 6s 79us/step - loss: 0.6752 - acc: 0.3243 - val_loss: 0.6850 - val_acc: 0.3258\n",
      "Epoch 3/50\n",
      "80668/80668 [==============================] - 12s 151us/step - loss: 0.6555 - acc: 0.3321 - val_loss: 0.6733 - val_acc: 0.3223\n",
      "Epoch 4/50\n",
      "80668/80668 [==============================] - 11s 139us/step - loss: 0.6435 - acc: 0.3384 - val_loss: 0.6723 - val_acc: 0.3290\n",
      "Epoch 5/50\n",
      "80668/80668 [==============================] - 9s 110us/step - loss: 0.6362 - acc: 0.3427 - val_loss: 0.6686 - val_acc: 0.3160\n",
      "Epoch 6/50\n",
      "80668/80668 [==============================] - 8s 100us/step - loss: 0.6311 - acc: 0.3443 - val_loss: 0.6631 - val_acc: 0.3256\n",
      "Epoch 7/50\n",
      "80668/80668 [==============================] - 11s 131us/step - loss: 0.6271 - acc: 0.3476 - val_loss: 0.6667 - val_acc: 0.3189\n",
      "Epoch 8/50\n",
      "80668/80668 [==============================] - 7s 84us/step - loss: 0.6241 - acc: 0.3503 - val_loss: 0.6726 - val_acc: 0.3261\n",
      "Epoch 9/50\n",
      "80668/80668 [==============================] - 6s 74us/step - loss: 0.6226 - acc: 0.3507 - val_loss: 0.6793 - val_acc: 0.3287\n",
      "Epoch 10/50\n",
      "80668/80668 [==============================] - 6s 78us/step - loss: 0.6188 - acc: 0.3533 - val_loss: 0.6669 - val_acc: 0.3257\n",
      "Epoch 11/50\n",
      "80668/80668 [==============================] - 7s 81us/step - loss: 0.6172 - acc: 0.3542 - val_loss: 0.6705 - val_acc: 0.3176\n",
      "Epoch 12/50\n",
      "80668/80668 [==============================] - 6s 75us/step - loss: 0.6164 - acc: 0.3540 - val_loss: 0.6656 - val_acc: 0.3276\n",
      "Epoch 13/50\n",
      "80668/80668 [==============================] - 7s 81us/step - loss: 0.6149 - acc: 0.3554 - val_loss: 0.6699 - val_acc: 0.3162\n",
      "Epoch 14/50\n",
      "80668/80668 [==============================] - 6s 75us/step - loss: 0.6129 - acc: 0.3555 - val_loss: 0.6655 - val_acc: 0.3259\n",
      "Epoch 15/50\n",
      "80668/80668 [==============================] - 6s 79us/step - loss: 0.6101 - acc: 0.3571 - val_loss: 0.6659 - val_acc: 0.3206\n",
      "Epoch 16/50\n",
      "80668/80668 [==============================] - 12s 147us/step - loss: 0.6103 - acc: 0.3586 - val_loss: 0.6698 - val_acc: 0.3263\n",
      "Epoch 17/50\n",
      "80668/80668 [==============================] - 8s 101us/step - loss: 0.6096 - acc: 0.3570 - val_loss: 0.6658 - val_acc: 0.3176\n",
      "Epoch 18/50\n",
      "80668/80668 [==============================] - 7s 89us/step - loss: 0.6085 - acc: 0.3594 - val_loss: 0.6689 - val_acc: 0.3193\n",
      "Epoch 19/50\n",
      "80668/80668 [==============================] - 12s 155us/step - loss: 0.6071 - acc: 0.3592 - val_loss: 0.6672 - val_acc: 0.3196\n",
      "Epoch 20/50\n",
      "80668/80668 [==============================] - 10s 119us/step - loss: 0.6058 - acc: 0.3600 - val_loss: 0.6645 - val_acc: 0.3245\n",
      "Epoch 21/50\n",
      "80668/80668 [==============================] - 8s 103us/step - loss: 0.6057 - acc: 0.3604 - val_loss: 0.6632 - val_acc: 0.3222\n",
      "Epoch 22/50\n",
      "80668/80668 [==============================] - 13s 156us/step - loss: 0.6056 - acc: 0.3599 - val_loss: 0.6779 - val_acc: 0.3291\n",
      "Epoch 23/50\n",
      "80668/80668 [==============================] - 10s 125us/step - loss: 0.6036 - acc: 0.3624 - val_loss: 0.6662 - val_acc: 0.3241\n",
      "Epoch 24/50\n",
      "80668/80668 [==============================] - 9s 107us/step - loss: 0.6052 - acc: 0.3612 - val_loss: 0.6638 - val_acc: 0.3221\n",
      "Epoch 25/50\n",
      "80668/80668 [==============================] - 8s 104us/step - loss: 0.6041 - acc: 0.3626 - val_loss: 0.6656 - val_acc: 0.3241\n",
      "Epoch 26/50\n",
      "80668/80668 [==============================] - 8s 94us/step - loss: 0.6030 - acc: 0.3605 - val_loss: 0.6800 - val_acc: 0.3196\n",
      "Epoch 27/50\n",
      "80668/80668 [==============================] - 6s 76us/step - loss: 0.6030 - acc: 0.3619 - val_loss: 0.6674 - val_acc: 0.3192\n",
      "Epoch 28/50\n",
      "80668/80668 [==============================] - 6s 80us/step - loss: 0.6020 - acc: 0.3624 - val_loss: 0.6630 - val_acc: 0.3252\n",
      "Epoch 29/50\n",
      "80668/80668 [==============================] - 6s 81us/step - loss: 0.6017 - acc: 0.3636 - val_loss: 0.6646 - val_acc: 0.3269\n",
      "Epoch 30/50\n",
      "80668/80668 [==============================] - 12s 149us/step - loss: 0.6017 - acc: 0.3629 - val_loss: 0.6649 - val_acc: 0.3252\n",
      "Epoch 31/50\n",
      "80668/80668 [==============================] - 8s 94us/step - loss: 0.6014 - acc: 0.3618 - val_loss: 0.6751 - val_acc: 0.3286\n",
      "Epoch 32/50\n",
      "80668/80668 [==============================] - 7s 90us/step - loss: 0.6009 - acc: 0.3620 - val_loss: 0.6687 - val_acc: 0.3254\n",
      "Epoch 33/50\n",
      "80668/80668 [==============================] - 7s 84us/step - loss: 0.6006 - acc: 0.3643 - val_loss: 0.6741 - val_acc: 0.3297\n",
      "Epoch 34/50\n",
      "80668/80668 [==============================] - 8s 95us/step - loss: 0.6006 - acc: 0.3617 - val_loss: 0.6659 - val_acc: 0.3255\n",
      "Epoch 35/50\n",
      "80668/80668 [==============================] - 7s 88us/step - loss: 0.6012 - acc: 0.3620 - val_loss: 0.6696 - val_acc: 0.3181\n",
      "Epoch 36/50\n",
      "80668/80668 [==============================] - 12s 151us/step - loss: 0.6007 - acc: 0.3626 - val_loss: 0.6686 - val_acc: 0.3260\n",
      "Epoch 37/50\n",
      "80668/80668 [==============================] - 12s 150us/step - loss: 0.5998 - acc: 0.3631 - val_loss: 0.6691 - val_acc: 0.3162\n",
      "Epoch 38/50\n",
      "80668/80668 [==============================] - 9s 107us/step - loss: 0.5988 - acc: 0.3644 - val_loss: 0.6698 - val_acc: 0.3161\n",
      "Epoch 39/50\n",
      "80668/80668 [==============================] - 9s 110us/step - loss: 0.5991 - acc: 0.3636 - val_loss: 0.6691 - val_acc: 0.3269\n",
      "Epoch 40/50\n",
      "80668/80668 [==============================] - 8s 97us/step - loss: 0.5992 - acc: 0.3628 - val_loss: 0.6685 - val_acc: 0.3270\n",
      "Epoch 41/50\n",
      "80668/80668 [==============================] - 8s 94us/step - loss: 0.6001 - acc: 0.3647 - val_loss: 0.6710 - val_acc: 0.3140\n",
      "Epoch 42/50\n",
      "80668/80668 [==============================] - 8s 101us/step - loss: 0.5989 - acc: 0.3640 - val_loss: 0.6723 - val_acc: 0.3263\n",
      "Epoch 43/50\n",
      "80668/80668 [==============================] - 13s 155us/step - loss: 0.5990 - acc: 0.3645 - val_loss: 0.6732 - val_acc: 0.3256\n",
      "Epoch 44/50\n",
      "80668/80668 [==============================] - 10s 119us/step - loss: 0.5995 - acc: 0.3620 - val_loss: 0.6680 - val_acc: 0.3197\n",
      "Epoch 45/50\n",
      "80668/80668 [==============================] - 10s 118us/step - loss: 0.5988 - acc: 0.3629 - val_loss: 0.6748 - val_acc: 0.3255\n",
      "Epoch 46/50\n",
      "80668/80668 [==============================] - 9s 113us/step - loss: 0.5980 - acc: 0.3627 - val_loss: 0.6676 - val_acc: 0.3210\n",
      "Epoch 47/50\n",
      "80668/80668 [==============================] - 7s 92us/step - loss: 0.5981 - acc: 0.3646 - val_loss: 0.6736 - val_acc: 0.3138\n",
      "Epoch 48/50\n",
      "80668/80668 [==============================] - 8s 99us/step - loss: 0.5969 - acc: 0.3648 - val_loss: 0.6670 - val_acc: 0.3164\n",
      "Epoch 49/50\n",
      "80668/80668 [==============================] - 8s 95us/step - loss: 0.5975 - acc: 0.3646 - val_loss: 0.6706 - val_acc: 0.3276\n",
      "Epoch 50/50\n",
      "80668/80668 [==============================] - 11s 140us/step - loss: 0.5970 - acc: 0.3642 - val_loss: 0.6675 - val_acc: 0.3208\n"
     ]
    }
   ],
   "source": [
    "#el que hay que usar concatenacion\n",
    "\n",
    "history = model.fit([train.userId, train.movieId], train.rating,validation_data=([test.userId, test.movieId], test.rating), epochs=50, verbose=1)\n"
   ]
  },
  {
   "cell_type": "code",
   "execution_count": 219,
   "metadata": {},
   "outputs": [
    {
     "data": {
      "text/plain": [
       "Text(0,0.5,'Train Error')"
      ]
     },
     "execution_count": 219,
     "metadata": {},
     "output_type": "execute_result"
    },
    {
     "data": {
      "text/plain": [
       "<Figure size 432x288 with 0 Axes>"
      ]
     },
     "metadata": {},
     "output_type": "display_data"
    },
    {
     "data": {
      "image/png": "[encoded data removed]",
      "text/plain": [
       "<Figure size 720x720 with 1 Axes>"
      ]
     },
     "metadata": {
      "needs_background": "light"
     },
     "output_type": "display_data"
    }
   ],
   "source": [
    "plt.clf()\n",
    "plt.figure(figsize=(10,10))\n",
    "pd.Series(history.history['loss']).plot(logy=True) #azul\n",
    "pd.Series(history.history['val_loss']).plot(logy=True) #naranja\n",
    "plt.grid()\n",
    "plt.legend()\n",
    "plt.xlabel(\"Epoch\")\n",
    "plt.ylabel(\"Train Error\")"
   ]
  },
  {
   "cell_type": "code",
   "execution_count": 220,
   "metadata": {},
   "outputs": [
    {
     "ename": "NameError",
     "evalue": "name 'acc' is not defined",
     "output_type": "error",
     "traceback": [
      "\u001b[1;31m---------------------------------------------------------------------------\u001b[0m",
      "\u001b[1;31mNameError\u001b[0m                                 Traceback (most recent call last)",
      "\u001b[1;32m<ipython-input-220-30f395735ab0>\u001b[0m in \u001b[0;36m<module>\u001b[1;34m()\u001b[0m\n\u001b[0;32m      4\u001b[0m \u001b[0mpd\u001b[0m\u001b[1;33m.\u001b[0m\u001b[0mSeries\u001b[0m\u001b[1;33m(\u001b[0m\u001b[0mhistory\u001b[0m\u001b[1;33m.\u001b[0m\u001b[0mhistory\u001b[0m\u001b[1;33m[\u001b[0m\u001b[1;34m'val_acc'\u001b[0m\u001b[1;33m]\u001b[0m\u001b[1;33m)\u001b[0m\u001b[1;33m.\u001b[0m\u001b[0mplot\u001b[0m\u001b[1;33m(\u001b[0m\u001b[0mlogy\u001b[0m\u001b[1;33m=\u001b[0m\u001b[1;32mTrue\u001b[0m\u001b[1;33m)\u001b[0m \u001b[1;31m#naranja\u001b[0m\u001b[1;33m\u001b[0m\u001b[0m\n\u001b[0;32m      5\u001b[0m \u001b[0mplt\u001b[0m\u001b[1;33m.\u001b[0m\u001b[0mgrid\u001b[0m\u001b[1;33m(\u001b[0m\u001b[1;33m)\u001b[0m\u001b[1;33m\u001b[0m\u001b[0m\n\u001b[1;32m----> 6\u001b[1;33m \u001b[0mplt\u001b[0m\u001b[1;33m.\u001b[0m\u001b[0mlegend\u001b[0m\u001b[1;33m(\u001b[0m\u001b[0macc\u001b[0m\u001b[1;33m,\u001b[0m\u001b[0mval_\u001b[0m\u001b[1;33m)\u001b[0m\u001b[1;33m\u001b[0m\u001b[0m\n\u001b[0m\u001b[0;32m      7\u001b[0m \u001b[0mplt\u001b[0m\u001b[1;33m.\u001b[0m\u001b[0mxlabel\u001b[0m\u001b[1;33m(\u001b[0m\u001b[1;34m\"Epoch\"\u001b[0m\u001b[1;33m)\u001b[0m\u001b[1;33m\u001b[0m\u001b[0m\n\u001b[0;32m      8\u001b[0m \u001b[0mplt\u001b[0m\u001b[1;33m.\u001b[0m\u001b[0mylabel\u001b[0m\u001b[1;33m(\u001b[0m\u001b[1;34m\"Train Error\"\u001b[0m\u001b[1;33m)\u001b[0m\u001b[1;33m\u001b[0m\u001b[0m\n",
      "\u001b[1;31mNameError\u001b[0m: name 'acc' is not defined"
     ]
    },
    {
     "data": {
      "text/plain": [
       "<Figure size 432x288 with 0 Axes>"
      ]
     },
     "metadata": {},
     "output_type": "display_data"
    },
    {
     "data": {
      "image/png": "[encoded data removed]",
      "text/plain": [
       "<Figure size 720x720 with 1 Axes>"
      ]
     },
     "metadata": {
      "needs_background": "light"
     },
     "output_type": "display_data"
    }
   ],
   "source": [
    "plt.clf()\n",
    "plt.figure(figsize=(10,10))\n",
    "pd.Series(history.history['acc']).plot(logy=True) #azul\n",
    "pd.Series(history.history['val_acc']).plot(logy=True) #naranja\n",
    "plt.grid()\n",
    "plt.legend()\n",
    "plt.xlabel(\"Epoch\")\n",
    "plt.ylabel(\"Train Error\")"
   ]
  },
  {
   "cell_type": "code",
   "execution_count": 205,
   "metadata": {},
   "outputs": [
    {
     "data": {
      "text/plain": [
       "Text(0,0.5,'Train Error')"
      ]
     },
     "execution_count": 205,
     "metadata": {},
     "output_type": "execute_result"
    },
    {
     "data": {
      "image/png": "[encoded data removed]",
      "text/plain": [
       "<Figure size 432x288 with 1 Axes>"
      ]
     },
     "metadata": {
      "needs_background": "light"
     },
     "output_type": "display_data"
    }
   ],
   "source": [
    "pd.Series(history.history['loss']).plot(logy=True)\n",
    "pd.Series(history.history['val_loss']).plot(logy=True)\n",
    "plt.xlabel(\"Epoch\")\n",
    "plt.ylabel(\"Train Error\")"
   ]
  },
  {
   "cell_type": "code",
   "execution_count": 206,
   "metadata": {},
   "outputs": [
    {
     "name": "stdout",
     "output_type": "stream",
     "text": [
      "0.66960035700119\n",
      "0.6675071814309884\n",
      "[[3.281802 ]\n",
      " [4.425736 ]\n",
      " [3.6752844]\n",
      " ...\n",
      " [2.11016  ]\n",
      " [3.878872 ]\n",
      " [2.8185656]]\n"
     ]
    }
   ],
   "source": [
    "y_hat_2 = np.round(model.predict([test.userId, test.movieId]),0)\n",
    "print(mean_absolute_error(y_true, y_hat_2))\n",
    "\n",
    "print(mean_absolute_error(y_true, model.predict([test.userId, test.movieId])))\n",
    "\n",
    "print(model.predict([test.userId, test.movieId]))\n"
   ]
  },
  {
   "cell_type": "code",
   "execution_count": 208,
   "metadata": {},
   "outputs": [],
   "source": [
    "from keras.models import load_model\n",
    "model.save('my_model2.h5')  # creates a HDF5 file 'my_model.h5'\n"
   ]
  },
  {
   "cell_type": "code",
   "execution_count": null,
   "metadata": {},
   "outputs": [],
   "source": []
  }
 ],
 "metadata": {
  "kernelspec": {
   "display_name": "Python 3",
   "language": "python",
   "name": "python3"
  },
  "language_info": {
   "codemirror_mode": {
    "name": "ipython",
    "version": 3
   },
   "file_extension": ".py",
   "mimetype": "text/x-python",
   "name": "python",
   "nbconvert_exporter": "python",
   "pygments_lexer": "ipython3",
   "version": "3.6.4"
  }
 },
 "nbformat": 4,
 "nbformat_minor": 2
}
